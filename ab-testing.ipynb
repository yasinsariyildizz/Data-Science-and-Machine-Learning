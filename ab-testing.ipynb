{
 "cells": [
  {
   "cell_type": "code",
   "execution_count": 1,
   "id": "5243ef3e",
   "metadata": {
    "collapsed": true,
    "execution": {
     "iopub.execute_input": "2022-06-08T14:14:45.437267Z",
     "iopub.status.busy": "2022-06-08T14:14:45.436788Z",
     "iopub.status.idle": "2022-06-08T14:14:58.704510Z",
     "shell.execute_reply": "2022-06-08T14:14:58.703332Z"
    },
    "jupyter": {
     "outputs_hidden": true
    },
    "papermill": {
     "duration": 13.282369,
     "end_time": "2022-06-08T14:14:58.707069",
     "exception": false,
     "start_time": "2022-06-08T14:14:45.424700",
     "status": "completed"
    },
    "tags": []
   },
   "outputs": [
    {
     "name": "stdout",
     "output_type": "stream",
     "text": [
      "Requirement already satisfied: statsmodels in /opt/conda/lib/python3.7/site-packages (0.13.2)\r\n",
      "Requirement already satisfied: numpy>=1.17 in /opt/conda/lib/python3.7/site-packages (from statsmodels) (1.21.6)\r\n",
      "Requirement already satisfied: packaging>=21.3 in /opt/conda/lib/python3.7/site-packages (from statsmodels) (21.3)\r\n",
      "Requirement already satisfied: patsy>=0.5.2 in /opt/conda/lib/python3.7/site-packages (from statsmodels) (0.5.2)\r\n",
      "Requirement already satisfied: pandas>=0.25 in /opt/conda/lib/python3.7/site-packages (from statsmodels) (1.3.5)\r\n",
      "Requirement already satisfied: scipy>=1.3 in /opt/conda/lib/python3.7/site-packages (from statsmodels) (1.7.3)\r\n",
      "Requirement already satisfied: pyparsing!=3.0.5,>=2.0.2 in /opt/conda/lib/python3.7/site-packages (from packaging>=21.3->statsmodels) (3.0.9)\r\n",
      "Requirement already satisfied: python-dateutil>=2.7.3 in /opt/conda/lib/python3.7/site-packages (from pandas>=0.25->statsmodels) (2.8.2)\r\n",
      "Requirement already satisfied: pytz>=2017.3 in /opt/conda/lib/python3.7/site-packages (from pandas>=0.25->statsmodels) (2022.1)\r\n",
      "Requirement already satisfied: six in /opt/conda/lib/python3.7/site-packages (from patsy>=0.5.2->statsmodels) (1.16.0)\r\n",
      "\u001b[33mWARNING: Running pip as the 'root' user can result in broken permissions and conflicting behaviour with the system package manager. It is recommended to use a virtual environment instead: https://pip.pypa.io/warnings/venv\u001b[0m\u001b[33m\r\n",
      "\u001b[0m"
     ]
    }
   ],
   "source": [
    "import pandas as pd\n",
    "import matplotlib.pyplot as plt\n",
    "import numpy as np\n",
    "import seaborn as sns\n",
    "!pip install statsmodels\n",
    "import statsmodels.stats.api as sms\n",
    "from scipy.stats import ttest_1samp, shapiro, levene, ttest_ind, mannwhitneyu, \\\n",
    "    pearsonr, spearmanr, kendalltau, f_oneway, kruskal\n",
    "from statsmodels.stats.proportion import proportions_ztest\n",
    "sns.set(style=\"ticks\")\n",
    "sns.set_style(\"darkgrid\")\n",
    "import warnings\n",
    "warnings.filterwarnings(\"ignore\")"
   ]
  },
  {
   "cell_type": "markdown",
   "id": "089f6a4a",
   "metadata": {
    "papermill": {
     "duration": 0.007448,
     "end_time": "2022-06-08T14:14:58.722337",
     "exception": false,
     "start_time": "2022-06-08T14:14:58.714889",
     "status": "completed"
    },
    "tags": []
   },
   "source": [
    "### Business Problem and Dataset"
   ]
  },
  {
   "cell_type": "markdown",
   "id": "1213b801",
   "metadata": {
    "papermill": {
     "duration": 0.007372,
     "end_time": "2022-06-08T14:14:58.737245",
     "exception": false,
     "start_time": "2022-06-08T14:14:58.729873",
     "status": "completed"
    },
    "tags": []
   },
   "source": [
    "* This case and dataset is taken from the measurement problems course on www.miuul.com.\n",
    "\n",
    "* Facebook recently introduced a new bidding type, 'average bidding', as an alternative to the existing bidding type called 'maximumbidding'. One of our clients, xyz.com, decided to test this new feature and would like to run an A/B test to see if average bidding converts more than maximumbidding. \n",
    "\n",
    "* The A/B test has been going on for 1 month and xyz.com is now waiting for you to analyze the results of this A/B test. The ultimate success criterion for Bombabomba.com is Purchase. Therefore, the Purchase metric should be focused on for statistical tests.\n"
   ]
  },
  {
   "cell_type": "code",
   "execution_count": 2,
   "id": "908eb4df",
   "metadata": {
    "execution": {
     "iopub.execute_input": "2022-06-08T14:14:58.754146Z",
     "iopub.status.busy": "2022-06-08T14:14:58.753758Z",
     "iopub.status.idle": "2022-06-08T14:15:10.424261Z",
     "shell.execute_reply": "2022-06-08T14:15:10.423086Z"
    },
    "papermill": {
     "duration": 11.681871,
     "end_time": "2022-06-08T14:15:10.426673",
     "exception": false,
     "start_time": "2022-06-08T14:14:58.744802",
     "status": "completed"
    },
    "tags": []
   },
   "outputs": [
    {
     "name": "stdout",
     "output_type": "stream",
     "text": [
      "Collecting openpyxl\r\n",
      "  Downloading openpyxl-3.0.10-py2.py3-none-any.whl (242 kB)\r\n",
      "\u001b[2K     \u001b[90m━━━━━━━━━━━━━━━━━━━━━━━━━━━━━━━━━━━━━━━\u001b[0m \u001b[32m242.1/242.1 kB\u001b[0m \u001b[31m4.7 MB/s\u001b[0m eta \u001b[36m0:00:00\u001b[0m\r\n",
      "\u001b[?25hCollecting et-xmlfile\r\n",
      "  Downloading et_xmlfile-1.1.0-py3-none-any.whl (4.7 kB)\r\n",
      "Installing collected packages: et-xmlfile, openpyxl\r\n",
      "Successfully installed et-xmlfile-1.1.0 openpyxl-3.0.10\r\n",
      "\u001b[33mWARNING: Running pip as the 'root' user can result in broken permissions and conflicting behaviour with the system package manager. It is recommended to use a virtual environment instead: https://pip.pypa.io/warnings/venv\u001b[0m\u001b[33m\r\n",
      "\u001b[0m"
     ]
    }
   ],
   "source": [
    "!pip install openpyxl\n",
    "df_control=pd.read_excel(\"../input/ab-test/ab_testing.xlsx\",sheet_name=\"Control Group\",engine=\"openpyxl\")\n",
    "df_test=pd.read_excel(\"../input/ab-test/ab_testing.xlsx\",sheet_name=\"Test Group\",engine=\"openpyxl\")"
   ]
  },
  {
   "cell_type": "code",
   "execution_count": 3,
   "id": "2b241ad5",
   "metadata": {
    "execution": {
     "iopub.execute_input": "2022-06-08T14:15:10.445271Z",
     "iopub.status.busy": "2022-06-08T14:15:10.444848Z",
     "iopub.status.idle": "2022-06-08T14:15:10.464330Z",
     "shell.execute_reply": "2022-06-08T14:15:10.463286Z"
    },
    "papermill": {
     "duration": 0.031109,
     "end_time": "2022-06-08T14:15:10.466330",
     "exception": false,
     "start_time": "2022-06-08T14:15:10.435221",
     "status": "completed"
    },
    "tags": []
   },
   "outputs": [
    {
     "data": {
      "text/html": [
       "<div>\n",
       "<style scoped>\n",
       "    .dataframe tbody tr th:only-of-type {\n",
       "        vertical-align: middle;\n",
       "    }\n",
       "\n",
       "    .dataframe tbody tr th {\n",
       "        vertical-align: top;\n",
       "    }\n",
       "\n",
       "    .dataframe thead th {\n",
       "        text-align: right;\n",
       "    }\n",
       "</style>\n",
       "<table border=\"1\" class=\"dataframe\">\n",
       "  <thead>\n",
       "    <tr style=\"text-align: right;\">\n",
       "      <th></th>\n",
       "      <th>Impression</th>\n",
       "      <th>Click</th>\n",
       "      <th>Purchase</th>\n",
       "      <th>Earning</th>\n",
       "    </tr>\n",
       "  </thead>\n",
       "  <tbody>\n",
       "    <tr>\n",
       "      <th>0</th>\n",
       "      <td>82529.459271</td>\n",
       "      <td>6090.077317</td>\n",
       "      <td>665.211255</td>\n",
       "      <td>2311.277143</td>\n",
       "    </tr>\n",
       "    <tr>\n",
       "      <th>1</th>\n",
       "      <td>98050.451926</td>\n",
       "      <td>3382.861786</td>\n",
       "      <td>315.084895</td>\n",
       "      <td>1742.806855</td>\n",
       "    </tr>\n",
       "    <tr>\n",
       "      <th>2</th>\n",
       "      <td>82696.023549</td>\n",
       "      <td>4167.965750</td>\n",
       "      <td>458.083738</td>\n",
       "      <td>1797.827447</td>\n",
       "    </tr>\n",
       "    <tr>\n",
       "      <th>3</th>\n",
       "      <td>109914.400398</td>\n",
       "      <td>4910.882240</td>\n",
       "      <td>487.090773</td>\n",
       "      <td>1696.229178</td>\n",
       "    </tr>\n",
       "    <tr>\n",
       "      <th>4</th>\n",
       "      <td>108457.762630</td>\n",
       "      <td>5987.655811</td>\n",
       "      <td>441.034050</td>\n",
       "      <td>1543.720179</td>\n",
       "    </tr>\n",
       "  </tbody>\n",
       "</table>\n",
       "</div>"
      ],
      "text/plain": [
       "      Impression        Click    Purchase      Earning\n",
       "0   82529.459271  6090.077317  665.211255  2311.277143\n",
       "1   98050.451926  3382.861786  315.084895  1742.806855\n",
       "2   82696.023549  4167.965750  458.083738  1797.827447\n",
       "3  109914.400398  4910.882240  487.090773  1696.229178\n",
       "4  108457.762630  5987.655811  441.034050  1543.720179"
      ]
     },
     "execution_count": 3,
     "metadata": {},
     "output_type": "execute_result"
    }
   ],
   "source": [
    "df_control.head()"
   ]
  },
  {
   "cell_type": "code",
   "execution_count": 4,
   "id": "909cc640",
   "metadata": {
    "execution": {
     "iopub.execute_input": "2022-06-08T14:15:10.484393Z",
     "iopub.status.busy": "2022-06-08T14:15:10.483644Z",
     "iopub.status.idle": "2022-06-08T14:15:10.523062Z",
     "shell.execute_reply": "2022-06-08T14:15:10.522391Z"
    },
    "papermill": {
     "duration": 0.050341,
     "end_time": "2022-06-08T14:15:10.524799",
     "exception": false,
     "start_time": "2022-06-08T14:15:10.474458",
     "status": "completed"
    },
    "tags": []
   },
   "outputs": [
    {
     "data": {
      "text/html": [
       "<div>\n",
       "<style scoped>\n",
       "    .dataframe tbody tr th:only-of-type {\n",
       "        vertical-align: middle;\n",
       "    }\n",
       "\n",
       "    .dataframe tbody tr th {\n",
       "        vertical-align: top;\n",
       "    }\n",
       "\n",
       "    .dataframe thead th {\n",
       "        text-align: right;\n",
       "    }\n",
       "</style>\n",
       "<table border=\"1\" class=\"dataframe\">\n",
       "  <thead>\n",
       "    <tr style=\"text-align: right;\">\n",
       "      <th></th>\n",
       "      <th>count</th>\n",
       "      <th>mean</th>\n",
       "      <th>std</th>\n",
       "      <th>min</th>\n",
       "      <th>25%</th>\n",
       "      <th>50%</th>\n",
       "      <th>75%</th>\n",
       "      <th>max</th>\n",
       "    </tr>\n",
       "  </thead>\n",
       "  <tbody>\n",
       "    <tr>\n",
       "      <th>Impression</th>\n",
       "      <td>40.0</td>\n",
       "      <td>101711.45</td>\n",
       "      <td>20302.16</td>\n",
       "      <td>45475.94</td>\n",
       "      <td>85726.69</td>\n",
       "      <td>99790.70</td>\n",
       "      <td>115212.82</td>\n",
       "      <td>147539.34</td>\n",
       "    </tr>\n",
       "    <tr>\n",
       "      <th>Click</th>\n",
       "      <td>40.0</td>\n",
       "      <td>5100.66</td>\n",
       "      <td>1329.99</td>\n",
       "      <td>2189.75</td>\n",
       "      <td>4124.30</td>\n",
       "      <td>5001.22</td>\n",
       "      <td>5923.80</td>\n",
       "      <td>7959.13</td>\n",
       "    </tr>\n",
       "    <tr>\n",
       "      <th>Purchase</th>\n",
       "      <td>40.0</td>\n",
       "      <td>550.89</td>\n",
       "      <td>134.11</td>\n",
       "      <td>267.03</td>\n",
       "      <td>470.10</td>\n",
       "      <td>531.21</td>\n",
       "      <td>637.96</td>\n",
       "      <td>801.80</td>\n",
       "    </tr>\n",
       "    <tr>\n",
       "      <th>Earning</th>\n",
       "      <td>40.0</td>\n",
       "      <td>1908.57</td>\n",
       "      <td>302.92</td>\n",
       "      <td>1253.99</td>\n",
       "      <td>1685.85</td>\n",
       "      <td>1975.16</td>\n",
       "      <td>2119.80</td>\n",
       "      <td>2497.30</td>\n",
       "    </tr>\n",
       "  </tbody>\n",
       "</table>\n",
       "</div>"
      ],
      "text/plain": [
       "            count       mean       std       min       25%       50%  \\\n",
       "Impression   40.0  101711.45  20302.16  45475.94  85726.69  99790.70   \n",
       "Click        40.0    5100.66   1329.99   2189.75   4124.30   5001.22   \n",
       "Purchase     40.0     550.89    134.11    267.03    470.10    531.21   \n",
       "Earning      40.0    1908.57    302.92   1253.99   1685.85   1975.16   \n",
       "\n",
       "                  75%        max  \n",
       "Impression  115212.82  147539.34  \n",
       "Click         5923.80    7959.13  \n",
       "Purchase       637.96     801.80  \n",
       "Earning       2119.80    2497.30  "
      ]
     },
     "execution_count": 4,
     "metadata": {},
     "output_type": "execute_result"
    }
   ],
   "source": [
    "round( df_control.describe().T,2)"
   ]
  },
  {
   "cell_type": "code",
   "execution_count": 5,
   "id": "ef90b3c8",
   "metadata": {
    "execution": {
     "iopub.execute_input": "2022-06-08T14:15:10.544064Z",
     "iopub.status.busy": "2022-06-08T14:15:10.543313Z",
     "iopub.status.idle": "2022-06-08T14:15:10.852245Z",
     "shell.execute_reply": "2022-06-08T14:15:10.851603Z"
    },
    "papermill": {
     "duration": 0.320543,
     "end_time": "2022-06-08T14:15:10.854096",
     "exception": false,
     "start_time": "2022-06-08T14:15:10.533553",
     "status": "completed"
    },
    "tags": []
   },
   "outputs": [
    {
     "data": {
      "image/png": "[encoded data removed]",
      "text/plain": [
       "<Figure size 432x288 with 2 Axes>"
      ]
     },
     "metadata": {},
     "output_type": "display_data"
    }
   ],
   "source": [
    "sns.heatmap(df_control.corr(), annot=True);"
   ]
  },
  {
   "cell_type": "code",
   "execution_count": 6,
   "id": "9aae7906",
   "metadata": {
    "execution": {
     "iopub.execute_input": "2022-06-08T14:15:10.874307Z",
     "iopub.status.busy": "2022-06-08T14:15:10.873778Z",
     "iopub.status.idle": "2022-06-08T14:15:10.884786Z",
     "shell.execute_reply": "2022-06-08T14:15:10.884122Z"
    },
    "papermill": {
     "duration": 0.023361,
     "end_time": "2022-06-08T14:15:10.886516",
     "exception": false,
     "start_time": "2022-06-08T14:15:10.863155",
     "status": "completed"
    },
    "tags": []
   },
   "outputs": [
    {
     "data": {
      "text/html": [
       "<div>\n",
       "<style scoped>\n",
       "    .dataframe tbody tr th:only-of-type {\n",
       "        vertical-align: middle;\n",
       "    }\n",
       "\n",
       "    .dataframe tbody tr th {\n",
       "        vertical-align: top;\n",
       "    }\n",
       "\n",
       "    .dataframe thead th {\n",
       "        text-align: right;\n",
       "    }\n",
       "</style>\n",
       "<table border=\"1\" class=\"dataframe\">\n",
       "  <thead>\n",
       "    <tr style=\"text-align: right;\">\n",
       "      <th></th>\n",
       "      <th>Impression</th>\n",
       "      <th>Click</th>\n",
       "      <th>Purchase</th>\n",
       "      <th>Earning</th>\n",
       "    </tr>\n",
       "  </thead>\n",
       "  <tbody>\n",
       "    <tr>\n",
       "      <th>0</th>\n",
       "      <td>120103.503796</td>\n",
       "      <td>3216.547958</td>\n",
       "      <td>702.160346</td>\n",
       "      <td>1939.611243</td>\n",
       "    </tr>\n",
       "    <tr>\n",
       "      <th>1</th>\n",
       "      <td>134775.943363</td>\n",
       "      <td>3635.082422</td>\n",
       "      <td>834.054286</td>\n",
       "      <td>2929.405820</td>\n",
       "    </tr>\n",
       "    <tr>\n",
       "      <th>2</th>\n",
       "      <td>107806.620788</td>\n",
       "      <td>3057.143560</td>\n",
       "      <td>422.934258</td>\n",
       "      <td>2526.244877</td>\n",
       "    </tr>\n",
       "    <tr>\n",
       "      <th>3</th>\n",
       "      <td>116445.275526</td>\n",
       "      <td>4650.473911</td>\n",
       "      <td>429.033535</td>\n",
       "      <td>2281.428574</td>\n",
       "    </tr>\n",
       "    <tr>\n",
       "      <th>4</th>\n",
       "      <td>145082.516838</td>\n",
       "      <td>5201.387724</td>\n",
       "      <td>749.860442</td>\n",
       "      <td>2781.697521</td>\n",
       "    </tr>\n",
       "  </tbody>\n",
       "</table>\n",
       "</div>"
      ],
      "text/plain": [
       "      Impression        Click    Purchase      Earning\n",
       "0  120103.503796  3216.547958  702.160346  1939.611243\n",
       "1  134775.943363  3635.082422  834.054286  2929.405820\n",
       "2  107806.620788  3057.143560  422.934258  2526.244877\n",
       "3  116445.275526  4650.473911  429.033535  2281.428574\n",
       "4  145082.516838  5201.387724  749.860442  2781.697521"
      ]
     },
     "execution_count": 6,
     "metadata": {},
     "output_type": "execute_result"
    }
   ],
   "source": [
    "df_test.head()"
   ]
  },
  {
   "cell_type": "code",
   "execution_count": 7,
   "id": "5f1ad113",
   "metadata": {
    "execution": {
     "iopub.execute_input": "2022-06-08T14:15:10.906941Z",
     "iopub.status.busy": "2022-06-08T14:15:10.906225Z",
     "iopub.status.idle": "2022-06-08T14:15:10.936126Z",
     "shell.execute_reply": "2022-06-08T14:15:10.935240Z"
    },
    "papermill": {
     "duration": 0.04267,
     "end_time": "2022-06-08T14:15:10.938316",
     "exception": false,
     "start_time": "2022-06-08T14:15:10.895646",
     "status": "completed"
    },
    "tags": []
   },
   "outputs": [
    {
     "data": {
      "text/html": [
       "<div>\n",
       "<style scoped>\n",
       "    .dataframe tbody tr th:only-of-type {\n",
       "        vertical-align: middle;\n",
       "    }\n",
       "\n",
       "    .dataframe tbody tr th {\n",
       "        vertical-align: top;\n",
       "    }\n",
       "\n",
       "    .dataframe thead th {\n",
       "        text-align: right;\n",
       "    }\n",
       "</style>\n",
       "<table border=\"1\" class=\"dataframe\">\n",
       "  <thead>\n",
       "    <tr style=\"text-align: right;\">\n",
       "      <th></th>\n",
       "      <th>count</th>\n",
       "      <th>mean</th>\n",
       "      <th>std</th>\n",
       "      <th>min</th>\n",
       "      <th>25%</th>\n",
       "      <th>50%</th>\n",
       "      <th>75%</th>\n",
       "      <th>max</th>\n",
       "    </tr>\n",
       "  </thead>\n",
       "  <tbody>\n",
       "    <tr>\n",
       "      <th>Impression</th>\n",
       "      <td>40.0</td>\n",
       "      <td>101711.45</td>\n",
       "      <td>20302.16</td>\n",
       "      <td>45475.94</td>\n",
       "      <td>85726.69</td>\n",
       "      <td>99790.70</td>\n",
       "      <td>115212.82</td>\n",
       "      <td>147539.34</td>\n",
       "    </tr>\n",
       "    <tr>\n",
       "      <th>Click</th>\n",
       "      <td>40.0</td>\n",
       "      <td>5100.66</td>\n",
       "      <td>1329.99</td>\n",
       "      <td>2189.75</td>\n",
       "      <td>4124.30</td>\n",
       "      <td>5001.22</td>\n",
       "      <td>5923.80</td>\n",
       "      <td>7959.13</td>\n",
       "    </tr>\n",
       "    <tr>\n",
       "      <th>Purchase</th>\n",
       "      <td>40.0</td>\n",
       "      <td>550.89</td>\n",
       "      <td>134.11</td>\n",
       "      <td>267.03</td>\n",
       "      <td>470.10</td>\n",
       "      <td>531.21</td>\n",
       "      <td>637.96</td>\n",
       "      <td>801.80</td>\n",
       "    </tr>\n",
       "    <tr>\n",
       "      <th>Earning</th>\n",
       "      <td>40.0</td>\n",
       "      <td>1908.57</td>\n",
       "      <td>302.92</td>\n",
       "      <td>1253.99</td>\n",
       "      <td>1685.85</td>\n",
       "      <td>1975.16</td>\n",
       "      <td>2119.80</td>\n",
       "      <td>2497.30</td>\n",
       "    </tr>\n",
       "  </tbody>\n",
       "</table>\n",
       "</div>"
      ],
      "text/plain": [
       "            count       mean       std       min       25%       50%  \\\n",
       "Impression   40.0  101711.45  20302.16  45475.94  85726.69  99790.70   \n",
       "Click        40.0    5100.66   1329.99   2189.75   4124.30   5001.22   \n",
       "Purchase     40.0     550.89    134.11    267.03    470.10    531.21   \n",
       "Earning      40.0    1908.57    302.92   1253.99   1685.85   1975.16   \n",
       "\n",
       "                  75%        max  \n",
       "Impression  115212.82  147539.34  \n",
       "Click         5923.80    7959.13  \n",
       "Purchase       637.96     801.80  \n",
       "Earning       2119.80    2497.30  "
      ]
     },
     "execution_count": 7,
     "metadata": {},
     "output_type": "execute_result"
    }
   ],
   "source": [
    "round( df_control.describe().T,2)"
   ]
  },
  {
   "cell_type": "code",
   "execution_count": 8,
   "id": "1a6c687d",
   "metadata": {
    "execution": {
     "iopub.execute_input": "2022-06-08T14:15:10.959169Z",
     "iopub.status.busy": "2022-06-08T14:15:10.958766Z",
     "iopub.status.idle": "2022-06-08T14:15:11.233767Z",
     "shell.execute_reply": "2022-06-08T14:15:11.233088Z"
    },
    "papermill": {
     "duration": 0.28805,
     "end_time": "2022-06-08T14:15:11.235802",
     "exception": false,
     "start_time": "2022-06-08T14:15:10.947752",
     "status": "completed"
    },
    "tags": []
   },
   "outputs": [
    {
     "data": {
      "image/png": "[encoded data removed]",
      "text/plain": [
       "<Figure size 432x288 with 2 Axes>"
      ]
     },
     "metadata": {},
     "output_type": "display_data"
    }
   ],
   "source": [
    "sns.heatmap(df_test.corr(), annot=True);"
   ]
  },
  {
   "cell_type": "code",
   "execution_count": 9,
   "id": "d8b8a9bb",
   "metadata": {
    "execution": {
     "iopub.execute_input": "2022-06-08T14:15:11.257680Z",
     "iopub.status.busy": "2022-06-08T14:15:11.256930Z",
     "iopub.status.idle": "2022-06-08T14:15:11.658265Z",
     "shell.execute_reply": "2022-06-08T14:15:11.657561Z"
    },
    "papermill": {
     "duration": 0.414357,
     "end_time": "2022-06-08T14:15:11.660143",
     "exception": false,
     "start_time": "2022-06-08T14:15:11.245786",
     "status": "completed"
    },
    "tags": []
   },
   "outputs": [
    {
     "data": {
      "image/png": "[encoded data removed]",
      "text/plain": [
       "<Figure size 864x360 with 2 Axes>"
      ]
     },
     "metadata": {},
     "output_type": "display_data"
    }
   ],
   "source": [
    "# density plot\n",
    "fig,axes =plt.subplots(1,2,figsize=(12,5))\n",
    "sns.kdeplot(df_control[\"Purchase\"],ax=axes[0]);\n",
    "sns.kdeplot(df_test[\"Purchase\"],ax=axes[1]);\n",
    "plt.show()"
   ]
  },
  {
   "cell_type": "code",
   "execution_count": 10,
   "id": "8af0b388",
   "metadata": {
    "execution": {
     "iopub.execute_input": "2022-06-08T14:15:11.683348Z",
     "iopub.status.busy": "2022-06-08T14:15:11.682654Z",
     "iopub.status.idle": "2022-06-08T14:15:11.688176Z",
     "shell.execute_reply": "2022-06-08T14:15:11.687173Z"
    },
    "papermill": {
     "duration": 0.019887,
     "end_time": "2022-06-08T14:15:11.690975",
     "exception": false,
     "start_time": "2022-06-08T14:15:11.671088",
     "status": "completed"
    },
    "tags": []
   },
   "outputs": [
    {
     "name": "stdout",
     "output_type": "stream",
     "text": [
      "Purchase mean of control group : 550.8940587702316\n",
      "Purchase mean of test group : 582.1060966484677\n"
     ]
    }
   ],
   "source": [
    "print(\"Purchase mean of control group :\",df_control[\"Purchase\"].mean())\n",
    "print(\"Purchase mean of test group :\",df_test[\"Purchase\"].mean())"
   ]
  },
  {
   "cell_type": "markdown",
   "id": "05c73cff",
   "metadata": {
    "papermill": {
     "duration": 0.010873,
     "end_time": "2022-06-08T14:15:11.713296",
     "exception": false,
     "start_time": "2022-06-08T14:15:11.702423",
     "status": "completed"
    },
    "tags": []
   },
   "source": [
    "* When we look at the correlation matrix, we can see that the correlation between the variables is very low. \n",
    "\n",
    "* When we examine both the explanatory statistics and density plots of the purchase variable of the control group and test group, we can see that they are close to the normal distribution. But to be sure, it is necessary to check the normality assumption with the shapiro test.\n",
    "\n",
    "* When we examine the averages of the purchase variable of the control group and test group, there is a difference of about 32 units. We should use the indepentdent t-test to test whether this difference is statistically significant."
   ]
  },
  {
   "cell_type": "markdown",
   "id": "2efd39eb",
   "metadata": {
    "papermill": {
     "duration": 0.010787,
     "end_time": "2022-06-08T14:15:11.734983",
     "exception": false,
     "start_time": "2022-06-08T14:15:11.724196",
     "status": "completed"
    },
    "tags": []
   },
   "source": [
    "### A/B Test - Independent t-test"
   ]
  },
  {
   "cell_type": "markdown",
   "id": "2d8a57ce",
   "metadata": {
    "papermill": {
     "duration": 0.010355,
     "end_time": "2022-06-08T14:15:11.756129",
     "exception": false,
     "start_time": "2022-06-08T14:15:11.745774",
     "status": "completed"
    },
    "tags": []
   },
   "source": [
    "*  **A/B Test - Independent t-test Roadmap**\n",
    "    1. Establish Hypotheses\n",
    "    2. Assumption Check\n",
    "         1. Normality Assumption\n",
    "         2. Variance Homogeneity\n",
    "    3. Implementation of the Hypothesis\n",
    "        1. Independent two-sample t-test (parametric test) if assumptions are met\n",
    "        2. If the assumptions are not provided, the mannwhitneyu test (non-parametric test)\n",
    "    4. Interpret results based on p-value"
   ]
  },
  {
   "cell_type": "markdown",
   "id": "566af982",
   "metadata": {
    "papermill": {
     "duration": 0.010945,
     "end_time": "2022-06-08T14:15:11.779071",
     "exception": false,
     "start_time": "2022-06-08T14:15:11.768126",
     "status": "completed"
    },
    "tags": []
   },
   "source": [
    "#### 1. Establish Hypotheses"
   ]
  },
  {
   "cell_type": "markdown",
   "id": "612c2aef",
   "metadata": {
    "papermill": {
     "duration": 0.011531,
     "end_time": "2022-06-08T14:15:11.802138",
     "exception": false,
     "start_time": "2022-06-08T14:15:11.790607",
     "status": "completed"
    },
    "tags": []
   },
   "source": [
    "* M1 : purchase mean of control group\n",
    "* M2 : purchase mean of test group\n",
    "\n",
    "* H0: M1 = M2 (There is not  a statistical difference between purchase means)\n",
    "* H1: M1 != M2 (There is a statistical difference between purchase means)\n",
    "\n",
    "* if p-value < 0.05, H0 hypothesis reject"
   ]
  },
  {
   "cell_type": "markdown",
   "id": "098574b6",
   "metadata": {
    "papermill": {
     "duration": 0.010837,
     "end_time": "2022-06-08T14:15:11.824288",
     "exception": false,
     "start_time": "2022-06-08T14:15:11.813451",
     "status": "completed"
    },
    "tags": []
   },
   "source": [
    "#### 2. Assumption Check"
   ]
  },
  {
   "cell_type": "markdown",
   "id": "65eeff52",
   "metadata": {
    "papermill": {
     "duration": 0.010639,
     "end_time": "2022-06-08T14:15:11.845975",
     "exception": false,
     "start_time": "2022-06-08T14:15:11.835336",
     "status": "completed"
    },
    "tags": []
   },
   "source": [
    "* Before we move on to hypothesis testing, we need to examine the assumptions.The assumptions are :\n",
    "* Data should be normally distributed and variances should be homogeneous."
   ]
  },
  {
   "cell_type": "markdown",
   "id": "e4e1331f",
   "metadata": {
    "papermill": {
     "duration": 0.010661,
     "end_time": "2022-06-08T14:15:11.867467",
     "exception": false,
     "start_time": "2022-06-08T14:15:11.856806",
     "status": "completed"
    },
    "tags": []
   },
   "source": [
    "* Normality assumptions checking:\n",
    "\n",
    "* H0 : data is normally distributed\n",
    "* H1 : data is not normally distributed\n",
    "* if p-value < 0.05 H0 hypothesis reject. Shapiro test can be used for normality test."
   ]
  },
  {
   "cell_type": "code",
   "execution_count": 11,
   "id": "5c67767c",
   "metadata": {
    "execution": {
     "iopub.execute_input": "2022-06-08T14:15:11.892053Z",
     "iopub.status.busy": "2022-06-08T14:15:11.891084Z",
     "iopub.status.idle": "2022-06-08T14:15:11.898072Z",
     "shell.execute_reply": "2022-06-08T14:15:11.896875Z"
    },
    "papermill": {
     "duration": 0.022628,
     "end_time": "2022-06-08T14:15:11.901271",
     "exception": false,
     "start_time": "2022-06-08T14:15:11.878643",
     "status": "completed"
    },
    "tags": []
   },
   "outputs": [
    {
     "name": "stdout",
     "output_type": "stream",
     "text": [
      "Test Stat = 0.9773, p-value = 0.5891\n"
     ]
    }
   ],
   "source": [
    "test_stat, pvalue = shapiro(df_control[\"Purchase\"])\n",
    "print('Test Stat = %.4f, p-value = %.4f' % (test_stat, pvalue))"
   ]
  },
  {
   "cell_type": "code",
   "execution_count": 12,
   "id": "bb2df539",
   "metadata": {
    "execution": {
     "iopub.execute_input": "2022-06-08T14:15:11.926728Z",
     "iopub.status.busy": "2022-06-08T14:15:11.925889Z",
     "iopub.status.idle": "2022-06-08T14:15:11.931406Z",
     "shell.execute_reply": "2022-06-08T14:15:11.930538Z"
    },
    "papermill": {
     "duration": 0.020098,
     "end_time": "2022-06-08T14:15:11.933640",
     "exception": false,
     "start_time": "2022-06-08T14:15:11.913542",
     "status": "completed"
    },
    "tags": []
   },
   "outputs": [
    {
     "name": "stdout",
     "output_type": "stream",
     "text": [
      "Test Stat = 0.9589, p-value = 0.1541\n"
     ]
    }
   ],
   "source": [
    "test_stat, pvalue = shapiro(df_test[\"Purchase\"])\n",
    "print('Test Stat = %.4f, p-value = %.4f' % (test_stat, pvalue))"
   ]
  },
  {
   "cell_type": "markdown",
   "id": "17bc0645",
   "metadata": {
    "papermill": {
     "duration": 0.011154,
     "end_time": "2022-06-08T14:15:11.955884",
     "exception": false,
     "start_time": "2022-06-08T14:15:11.944730",
     "status": "completed"
    },
    "tags": []
   },
   "source": [
    "* When the shapiro normality test for the control and test groups was examined, the p-values of both groups were greater than 0.05. Therefore, the H0 hypothesis cannot be rejected and it is concluded that both data are \"normally distributed\"."
   ]
  },
  {
   "cell_type": "markdown",
   "id": "bd97cbfc",
   "metadata": {
    "papermill": {
     "duration": 0.011446,
     "end_time": "2022-06-08T14:15:11.979443",
     "exception": false,
     "start_time": "2022-06-08T14:15:11.967997",
     "status": "completed"
    },
    "tags": []
   },
   "source": [
    "* Homogeneity assumption checking :\n",
    "\n",
    "* H0 : variances are homogeneous. variances are homogeneous.\n",
    "* H1 : variances are not homogeneous.\n",
    "* if p-value < 0.05 H0 hypothesis reject. Levene test can be used for homogeneity assumption."
   ]
  },
  {
   "cell_type": "code",
   "execution_count": 13,
   "id": "02c86734",
   "metadata": {
    "execution": {
     "iopub.execute_input": "2022-06-08T14:15:12.005383Z",
     "iopub.status.busy": "2022-06-08T14:15:12.004967Z",
     "iopub.status.idle": "2022-06-08T14:15:12.010852Z",
     "shell.execute_reply": "2022-06-08T14:15:12.010055Z"
    },
    "papermill": {
     "duration": 0.022514,
     "end_time": "2022-06-08T14:15:12.013978",
     "exception": false,
     "start_time": "2022-06-08T14:15:11.991464",
     "status": "completed"
    },
    "tags": []
   },
   "outputs": [
    {
     "name": "stdout",
     "output_type": "stream",
     "text": [
      "Test Stat = 2.6393, p-value = 0.1083\n"
     ]
    }
   ],
   "source": [
    "test_stat, pvalue = levene(df_control[\"Purchase\"],df_test[\"Purchase\"])\n",
    "print('Test Stat = %.4f, p-value = %.4f' % (test_stat, pvalue))"
   ]
  },
  {
   "cell_type": "markdown",
   "id": "2d8932b5",
   "metadata": {
    "papermill": {
     "duration": 0.011101,
     "end_time": "2022-06-08T14:15:12.036971",
     "exception": false,
     "start_time": "2022-06-08T14:15:12.025870",
     "status": "completed"
    },
    "tags": []
   },
   "source": [
    "* When the homogeneity assumption was examined with the Levene test, it was seen that the p-value was greater than 0.05 and the H0 hypothesis could not be rejected. Thus, it is concluded that the variances are homogeneous.\n",
    "\n",
    "* Since the assumptions of normality and homogeneity are satisfied, we will perform an independent t-test. We made equal_var=True. So variances are homogeneous. If the assumption of normality is satisfied but homogeneous are not equal then equal_var=False would be."
   ]
  },
  {
   "cell_type": "markdown",
   "id": "7fcb057e",
   "metadata": {
    "papermill": {
     "duration": 0.011406,
     "end_time": "2022-06-08T14:15:12.060216",
     "exception": false,
     "start_time": "2022-06-08T14:15:12.048810",
     "status": "completed"
    },
    "tags": []
   },
   "source": [
    "#### 3. Implementation of the Hypothesis"
   ]
  },
  {
   "cell_type": "code",
   "execution_count": 14,
   "id": "3a58eff7",
   "metadata": {
    "execution": {
     "iopub.execute_input": "2022-06-08T14:15:12.085942Z",
     "iopub.status.busy": "2022-06-08T14:15:12.085573Z",
     "iopub.status.idle": "2022-06-08T14:15:12.091946Z",
     "shell.execute_reply": "2022-06-08T14:15:12.090891Z"
    },
    "papermill": {
     "duration": 0.021894,
     "end_time": "2022-06-08T14:15:12.094080",
     "exception": false,
     "start_time": "2022-06-08T14:15:12.072186",
     "status": "completed"
    },
    "tags": []
   },
   "outputs": [
    {
     "name": "stdout",
     "output_type": "stream",
     "text": [
      "Test Stat = -0.9416, p-value = 0.3493\n"
     ]
    }
   ],
   "source": [
    "test_stat, pvalue = ttest_ind(df_control[\"Purchase\"],df_test[\"Purchase\"],\n",
    "                              equal_var=True)\n",
    "\n",
    "print('Test Stat = %.4f, p-value = %.4f' % (test_stat, pvalue))"
   ]
  },
  {
   "cell_type": "markdown",
   "id": "c4106a17",
   "metadata": {
    "papermill": {
     "duration": 0.011317,
     "end_time": "2022-06-08T14:15:12.116814",
     "exception": false,
     "start_time": "2022-06-08T14:15:12.105497",
     "status": "completed"
    },
    "tags": []
   },
   "source": [
    "#### 4. Interpret results based on p-value"
   ]
  },
  {
   "cell_type": "markdown",
   "id": "7be10be1",
   "metadata": {
    "papermill": {
     "duration": 0.011669,
     "end_time": "2022-06-08T14:15:12.140594",
     "exception": false,
     "start_time": "2022-06-08T14:15:12.128925",
     "status": "completed"
    },
    "tags": []
   },
   "source": [
    "* When the independent t-test is performed, it is seen that the p-value is greater than 0.05. Thus, we cannot reject the H0 hypothesis. There is no statistically significant difference between the mean purchases in the test and control groups."
   ]
  },
  {
   "cell_type": "code",
   "execution_count": null,
   "id": "19c13a42",
   "metadata": {
    "papermill": {
     "duration": 0.011753,
     "end_time": "2022-06-08T14:15:12.164260",
     "exception": false,
     "start_time": "2022-06-08T14:15:12.152507",
     "status": "completed"
    },
    "tags": []
   },
   "outputs": [],
   "source": []
  },
  {
   "cell_type": "code",
   "execution_count": null,
   "id": "8e5e3215",
   "metadata": {
    "papermill": {
     "duration": 0.012143,
     "end_time": "2022-06-08T14:15:12.188386",
     "exception": false,
     "start_time": "2022-06-08T14:15:12.176243",
     "status": "completed"
    },
    "tags": []
   },
   "outputs": [],
   "source": []
  },
  {
   "cell_type": "code",
   "execution_count": null,
   "id": "03deed88",
   "metadata": {
    "papermill": {
     "duration": 0.01184,
     "end_time": "2022-06-08T14:15:12.212340",
     "exception": false,
     "start_time": "2022-06-08T14:15:12.200500",
     "status": "completed"
    },
    "tags": []
   },
   "outputs": [],
   "source": []
  },
  {
   "cell_type": "code",
   "execution_count": null,
   "id": "8b919be4",
   "metadata": {
    "papermill": {
     "duration": 0.011585,
     "end_time": "2022-06-08T14:15:12.236063",
     "exception": false,
     "start_time": "2022-06-08T14:15:12.224478",
     "status": "completed"
    },
    "tags": []
   },
   "outputs": [],
   "source": []
  }
 ],
 "metadata": {
  "kernelspec": {
   "display_name": "Python 3",
   "language": "python",
   "name": "python3"
  },
  "language_info": {
   "codemirror_mode": {
    "name": "ipython",
    "version": 3
   },
   "file_extension": ".py",
   "mimetype": "text/x-python",
   "name": "python",
   "nbconvert_exporter": "python",
   "pygments_lexer": "ipython3",
   "version": "3.7.12"
  },
  "papermill": {
   "default_parameters": {},
   "duration": 37.056708,
   "end_time": "2022-06-08T14:15:13.068731",
   "environment_variables": {},
   "exception": null,
   "input_path": "__notebook__.ipynb",
   "output_path": "__notebook__.ipynb",
   "parameters": {},
   "start_time": "2022-06-08T14:14:36.012023",
   "version": "2.3.4"
  }
 },
 "nbformat": 4,
 "nbformat_minor": 5
}
