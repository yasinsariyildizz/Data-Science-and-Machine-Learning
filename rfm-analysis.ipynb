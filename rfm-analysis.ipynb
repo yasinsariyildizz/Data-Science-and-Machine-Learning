{
 "cells": [
  {
   "cell_type": "markdown",
   "id": "12c24038",
   "metadata": {
    "papermill": {
     "duration": 0.009641,
     "end_time": "2022-06-08T14:40:00.735593",
     "exception": false,
     "start_time": "2022-06-08T14:40:00.725952",
     "status": "completed"
    },
    "tags": []
   },
   "source": [
    "#### Business Problem and Dataset"
   ]
  },
  {
   "cell_type": "markdown",
   "id": "ed209ec3",
   "metadata": {
    "papermill": {
     "duration": 0.006267,
     "end_time": "2022-06-08T14:40:00.748545",
     "exception": false,
     "start_time": "2022-06-08T14:40:00.742278",
     "status": "completed"
    },
    "tags": []
   },
   "source": [
    "* This case and dataset is taken from the CRM course on www.miuul.com. The dataset contains the sales data of the FLO company.\n",
    "\n",
    "* FLO, an online shoe store, wants to segment its customers and determine marketing strategies according to these segments. To this end, the behaviors of the customers will be defined and groups will be formed according to the clustering in these behaviors.\n"
   ]
  },
  {
   "cell_type": "code",
   "execution_count": 1,
   "id": "0b882a85",
   "metadata": {
    "execution": {
     "iopub.execute_input": "2022-06-08T14:40:00.764188Z",
     "iopub.status.busy": "2022-06-08T14:40:00.763557Z",
     "iopub.status.idle": "2022-06-08T14:40:02.061471Z",
     "shell.execute_reply": "2022-06-08T14:40:02.060700Z"
    },
    "papermill": {
     "duration": 1.308611,
     "end_time": "2022-06-08T14:40:02.063958",
     "exception": false,
     "start_time": "2022-06-08T14:40:00.755347",
     "status": "completed"
    },
    "tags": []
   },
   "outputs": [
    {
     "data": {
      "text/html": [
       "<div>\n",
       "<style scoped>\n",
       "    .dataframe tbody tr th:only-of-type {\n",
       "        vertical-align: middle;\n",
       "    }\n",
       "\n",
       "    .dataframe tbody tr th {\n",
       "        vertical-align: top;\n",
       "    }\n",
       "\n",
       "    .dataframe thead th {\n",
       "        text-align: right;\n",
       "    }\n",
       "</style>\n",
       "<table border=\"1\" class=\"dataframe\">\n",
       "  <thead>\n",
       "    <tr style=\"text-align: right;\">\n",
       "      <th></th>\n",
       "      <th>master_id</th>\n",
       "      <th>order_channel</th>\n",
       "      <th>last_order_channel</th>\n",
       "      <th>first_order_date</th>\n",
       "      <th>last_order_date</th>\n",
       "      <th>last_order_date_online</th>\n",
       "      <th>last_order_date_offline</th>\n",
       "      <th>order_num_total_ever_online</th>\n",
       "      <th>order_num_total_ever_offline</th>\n",
       "      <th>customer_value_total_ever_offline</th>\n",
       "      <th>customer_value_total_ever_online</th>\n",
       "      <th>interested_in_categories_12</th>\n",
       "    </tr>\n",
       "  </thead>\n",
       "  <tbody>\n",
       "    <tr>\n",
       "      <th>0</th>\n",
       "      <td>cc294636-19f0-11eb-8d74-000d3a38a36f</td>\n",
       "      <td>Android App</td>\n",
       "      <td>Offline</td>\n",
       "      <td>2020-10-30</td>\n",
       "      <td>2021-02-26</td>\n",
       "      <td>2021-02-21</td>\n",
       "      <td>2021-02-26</td>\n",
       "      <td>4.0</td>\n",
       "      <td>1.0</td>\n",
       "      <td>139.99</td>\n",
       "      <td>799.38</td>\n",
       "      <td>[KADIN]</td>\n",
       "    </tr>\n",
       "    <tr>\n",
       "      <th>1</th>\n",
       "      <td>f431bd5a-ab7b-11e9-a2fc-000d3a38a36f</td>\n",
       "      <td>Android App</td>\n",
       "      <td>Mobile</td>\n",
       "      <td>2017-02-08</td>\n",
       "      <td>2021-02-16</td>\n",
       "      <td>2021-02-16</td>\n",
       "      <td>2020-01-10</td>\n",
       "      <td>19.0</td>\n",
       "      <td>2.0</td>\n",
       "      <td>159.97</td>\n",
       "      <td>1853.58</td>\n",
       "      <td>[ERKEK, COCUK, KADIN, AKTIFSPOR]</td>\n",
       "    </tr>\n",
       "    <tr>\n",
       "      <th>2</th>\n",
       "      <td>69b69676-1a40-11ea-941b-000d3a38a36f</td>\n",
       "      <td>Android App</td>\n",
       "      <td>Android App</td>\n",
       "      <td>2019-11-27</td>\n",
       "      <td>2020-11-27</td>\n",
       "      <td>2020-11-27</td>\n",
       "      <td>2019-12-01</td>\n",
       "      <td>3.0</td>\n",
       "      <td>2.0</td>\n",
       "      <td>189.97</td>\n",
       "      <td>395.35</td>\n",
       "      <td>[ERKEK, KADIN]</td>\n",
       "    </tr>\n",
       "    <tr>\n",
       "      <th>3</th>\n",
       "      <td>1854e56c-491f-11eb-806e-000d3a38a36f</td>\n",
       "      <td>Android App</td>\n",
       "      <td>Android App</td>\n",
       "      <td>2021-01-06</td>\n",
       "      <td>2021-01-17</td>\n",
       "      <td>2021-01-17</td>\n",
       "      <td>2021-01-06</td>\n",
       "      <td>1.0</td>\n",
       "      <td>1.0</td>\n",
       "      <td>39.99</td>\n",
       "      <td>81.98</td>\n",
       "      <td>[AKTIFCOCUK, COCUK]</td>\n",
       "    </tr>\n",
       "    <tr>\n",
       "      <th>4</th>\n",
       "      <td>d6ea1074-f1f5-11e9-9346-000d3a38a36f</td>\n",
       "      <td>Desktop</td>\n",
       "      <td>Desktop</td>\n",
       "      <td>2019-08-03</td>\n",
       "      <td>2021-03-07</td>\n",
       "      <td>2021-03-07</td>\n",
       "      <td>2019-08-03</td>\n",
       "      <td>1.0</td>\n",
       "      <td>1.0</td>\n",
       "      <td>49.99</td>\n",
       "      <td>159.99</td>\n",
       "      <td>[AKTIFSPOR]</td>\n",
       "    </tr>\n",
       "  </tbody>\n",
       "</table>\n",
       "</div>"
      ],
      "text/plain": [
       "                              master_id order_channel last_order_channel  \\\n",
       "0  cc294636-19f0-11eb-8d74-000d3a38a36f   Android App            Offline   \n",
       "1  f431bd5a-ab7b-11e9-a2fc-000d3a38a36f   Android App             Mobile   \n",
       "2  69b69676-1a40-11ea-941b-000d3a38a36f   Android App        Android App   \n",
       "3  1854e56c-491f-11eb-806e-000d3a38a36f   Android App        Android App   \n",
       "4  d6ea1074-f1f5-11e9-9346-000d3a38a36f       Desktop            Desktop   \n",
       "\n",
       "  first_order_date last_order_date last_order_date_online  \\\n",
       "0       2020-10-30      2021-02-26             2021-02-21   \n",
       "1       2017-02-08      2021-02-16             2021-02-16   \n",
       "2       2019-11-27      2020-11-27             2020-11-27   \n",
       "3       2021-01-06      2021-01-17             2021-01-17   \n",
       "4       2019-08-03      2021-03-07             2021-03-07   \n",
       "\n",
       "  last_order_date_offline  order_num_total_ever_online  \\\n",
       "0              2021-02-26                          4.0   \n",
       "1              2020-01-10                         19.0   \n",
       "2              2019-12-01                          3.0   \n",
       "3              2021-01-06                          1.0   \n",
       "4              2019-08-03                          1.0   \n",
       "\n",
       "   order_num_total_ever_offline  customer_value_total_ever_offline  \\\n",
       "0                           1.0                             139.99   \n",
       "1                           2.0                             159.97   \n",
       "2                           2.0                             189.97   \n",
       "3                           1.0                              39.99   \n",
       "4                           1.0                              49.99   \n",
       "\n",
       "   customer_value_total_ever_online       interested_in_categories_12  \n",
       "0                            799.38                           [KADIN]  \n",
       "1                           1853.58  [ERKEK, COCUK, KADIN, AKTIFSPOR]  \n",
       "2                            395.35                    [ERKEK, KADIN]  \n",
       "3                             81.98               [AKTIFCOCUK, COCUK]  \n",
       "4                            159.99                       [AKTIFSPOR]  "
      ]
     },
     "execution_count": 1,
     "metadata": {},
     "output_type": "execute_result"
    }
   ],
   "source": [
    "import pandas as pd\n",
    "import matplotlib.pyplot as plt\n",
    "import numpy as np\n",
    "import seaborn as sns\n",
    "import datetime as dt\n",
    "sns.set(style=\"ticks\")\n",
    "sns.set_style(\"darkgrid\")\n",
    "dff=pd.read_csv(\"../input/rfm-data/rfm_data.csv\")\n",
    "df=dff.copy()\n",
    "df.head()"
   ]
  },
  {
   "cell_type": "code",
   "execution_count": 2,
   "id": "6388b222",
   "metadata": {
    "execution": {
     "iopub.execute_input": "2022-06-08T14:40:02.080868Z",
     "iopub.status.busy": "2022-06-08T14:40:02.080011Z",
     "iopub.status.idle": "2022-06-08T14:40:02.105547Z",
     "shell.execute_reply": "2022-06-08T14:40:02.104355Z"
    },
    "papermill": {
     "duration": 0.036525,
     "end_time": "2022-06-08T14:40:02.107854",
     "exception": false,
     "start_time": "2022-06-08T14:40:02.071329",
     "status": "completed"
    },
    "tags": []
   },
   "outputs": [
    {
     "name": "stdout",
     "output_type": "stream",
     "text": [
      "--------------Shape --------------------------------\n",
      "(19945, 12)\n",
      "------- ------Dtypes -------------------------------\n",
      "master_id                             object\n",
      "order_channel                         object\n",
      "last_order_channel                    object\n",
      "first_order_date                      object\n",
      "last_order_date                       object\n",
      "last_order_date_online                object\n",
      "last_order_date_offline               object\n",
      "order_num_total_ever_online          float64\n",
      "order_num_total_ever_offline         float64\n",
      "customer_value_total_ever_offline    float64\n",
      "customer_value_total_ever_online     float64\n",
      "interested_in_categories_12           object\n",
      "dtype: object\n",
      "--------------- NA ----------------------------------\n",
      "master_id                            0\n",
      "order_channel                        0\n",
      "last_order_channel                   0\n",
      "first_order_date                     0\n",
      "last_order_date                      0\n",
      "last_order_date_online               0\n",
      "last_order_date_offline              0\n",
      "order_num_total_ever_online          0\n",
      "order_num_total_ever_offline         0\n",
      "customer_value_total_ever_offline    0\n",
      "customer_value_total_ever_online     0\n",
      "interested_in_categories_12          0\n",
      "dtype: int64\n"
     ]
    }
   ],
   "source": [
    "# first look to dataframe\n",
    "def check_df(df):\n",
    "    print(\"--------------Shape --------------------------------\")\n",
    "    print(df.shape)\n",
    "    print(\"------- ------Dtypes -------------------------------\")\n",
    "    print(df.dtypes)\n",
    "    print(\"--------------- NA ----------------------------------\")\n",
    "    print(df.isnull().sum().sort_values(ascending=False))\n",
    "check_df(df)"
   ]
  },
  {
   "cell_type": "code",
   "execution_count": 3,
   "id": "9b2928b0",
   "metadata": {
    "execution": {
     "iopub.execute_input": "2022-06-08T14:40:02.124965Z",
     "iopub.status.busy": "2022-06-08T14:40:02.123971Z",
     "iopub.status.idle": "2022-06-08T14:40:02.166414Z",
     "shell.execute_reply": "2022-06-08T14:40:02.165581Z"
    },
    "papermill": {
     "duration": 0.052951,
     "end_time": "2022-06-08T14:40:02.168345",
     "exception": false,
     "start_time": "2022-06-08T14:40:02.115394",
     "status": "completed"
    },
    "tags": []
   },
   "outputs": [
    {
     "data": {
      "text/html": [
       "<div>\n",
       "<style scoped>\n",
       "    .dataframe tbody tr th:only-of-type {\n",
       "        vertical-align: middle;\n",
       "    }\n",
       "\n",
       "    .dataframe tbody tr th {\n",
       "        vertical-align: top;\n",
       "    }\n",
       "\n",
       "    .dataframe thead th {\n",
       "        text-align: right;\n",
       "    }\n",
       "</style>\n",
       "<table border=\"1\" class=\"dataframe\">\n",
       "  <thead>\n",
       "    <tr style=\"text-align: right;\">\n",
       "      <th></th>\n",
       "      <th>count</th>\n",
       "      <th>mean</th>\n",
       "      <th>std</th>\n",
       "      <th>min</th>\n",
       "      <th>25%</th>\n",
       "      <th>50%</th>\n",
       "      <th>75%</th>\n",
       "      <th>max</th>\n",
       "    </tr>\n",
       "  </thead>\n",
       "  <tbody>\n",
       "    <tr>\n",
       "      <th>order_num_total_ever_online</th>\n",
       "      <td>19945.0</td>\n",
       "      <td>3.110855</td>\n",
       "      <td>4.225647</td>\n",
       "      <td>1.00</td>\n",
       "      <td>1.00</td>\n",
       "      <td>2.00</td>\n",
       "      <td>4.00</td>\n",
       "      <td>200.00</td>\n",
       "    </tr>\n",
       "    <tr>\n",
       "      <th>order_num_total_ever_offline</th>\n",
       "      <td>19945.0</td>\n",
       "      <td>1.913913</td>\n",
       "      <td>2.062880</td>\n",
       "      <td>1.00</td>\n",
       "      <td>1.00</td>\n",
       "      <td>1.00</td>\n",
       "      <td>2.00</td>\n",
       "      <td>109.00</td>\n",
       "    </tr>\n",
       "    <tr>\n",
       "      <th>customer_value_total_ever_offline</th>\n",
       "      <td>19945.0</td>\n",
       "      <td>253.922597</td>\n",
       "      <td>301.532853</td>\n",
       "      <td>10.00</td>\n",
       "      <td>99.99</td>\n",
       "      <td>179.98</td>\n",
       "      <td>319.97</td>\n",
       "      <td>18119.14</td>\n",
       "    </tr>\n",
       "    <tr>\n",
       "      <th>customer_value_total_ever_online</th>\n",
       "      <td>19945.0</td>\n",
       "      <td>497.321690</td>\n",
       "      <td>832.601886</td>\n",
       "      <td>12.99</td>\n",
       "      <td>149.98</td>\n",
       "      <td>286.46</td>\n",
       "      <td>578.44</td>\n",
       "      <td>45220.13</td>\n",
       "    </tr>\n",
       "  </tbody>\n",
       "</table>\n",
       "</div>"
      ],
      "text/plain": [
       "                                     count        mean         std    min  \\\n",
       "order_num_total_ever_online        19945.0    3.110855    4.225647   1.00   \n",
       "order_num_total_ever_offline       19945.0    1.913913    2.062880   1.00   \n",
       "customer_value_total_ever_offline  19945.0  253.922597  301.532853  10.00   \n",
       "customer_value_total_ever_online   19945.0  497.321690  832.601886  12.99   \n",
       "\n",
       "                                      25%     50%     75%       max  \n",
       "order_num_total_ever_online          1.00    2.00    4.00    200.00  \n",
       "order_num_total_ever_offline         1.00    1.00    2.00    109.00  \n",
       "customer_value_total_ever_offline   99.99  179.98  319.97  18119.14  \n",
       "customer_value_total_ever_online   149.98  286.46  578.44  45220.13  "
      ]
     },
     "execution_count": 3,
     "metadata": {},
     "output_type": "execute_result"
    }
   ],
   "source": [
    "df.describe().T"
   ]
  },
  {
   "cell_type": "code",
   "execution_count": 4,
   "id": "be5c5490",
   "metadata": {
    "execution": {
     "iopub.execute_input": "2022-06-08T14:40:02.186257Z",
     "iopub.status.busy": "2022-06-08T14:40:02.185560Z",
     "iopub.status.idle": "2022-06-08T14:40:02.192814Z",
     "shell.execute_reply": "2022-06-08T14:40:02.191929Z"
    },
    "papermill": {
     "duration": 0.018847,
     "end_time": "2022-06-08T14:40:02.195199",
     "exception": false,
     "start_time": "2022-06-08T14:40:02.176352",
     "status": "completed"
    },
    "tags": []
   },
   "outputs": [],
   "source": [
    "# creating amount of total spending and number of total order for each customer\n",
    "\n",
    "df[\"total_customer_value\"] = df[\"customer_value_total_ever_offline\"] + df[\"customer_value_total_ever_online\"]\n",
    "df[\"total_order_number\"] = df[\"order_num_total_ever_offline\"] + df[\"order_num_total_ever_online\"]"
   ]
  },
  {
   "cell_type": "code",
   "execution_count": 5,
   "id": "2102628f",
   "metadata": {
    "execution": {
     "iopub.execute_input": "2022-06-08T14:40:02.212818Z",
     "iopub.status.busy": "2022-06-08T14:40:02.212259Z",
     "iopub.status.idle": "2022-06-08T14:40:02.248911Z",
     "shell.execute_reply": "2022-06-08T14:40:02.247877Z"
    },
    "papermill": {
     "duration": 0.048357,
     "end_time": "2022-06-08T14:40:02.251537",
     "exception": false,
     "start_time": "2022-06-08T14:40:02.203180",
     "status": "completed"
    },
    "tags": []
   },
   "outputs": [],
   "source": [
    "# converting time variables form object to datetime\n",
    "\n",
    "df[\"first_order_date\"]=pd.to_datetime(df[\"first_order_date\"],yearfirst=True)\n",
    "df[\"last_order_date\"]=pd.to_datetime(df[\"last_order_date\"],yearfirst=True)\n",
    "df[\"last_order_date_online\"]=pd.to_datetime(df[\"last_order_date_online\"],yearfirst=True)\n",
    "df[\"last_order_date_offline\"]=pd.to_datetime(df[\"last_order_date_offline\"],yearfirst=True)"
   ]
  },
  {
   "cell_type": "code",
   "execution_count": 6,
   "id": "ede6aa4d",
   "metadata": {
    "execution": {
     "iopub.execute_input": "2022-06-08T14:40:02.268906Z",
     "iopub.status.busy": "2022-06-08T14:40:02.268507Z",
     "iopub.status.idle": "2022-06-08T14:40:02.290051Z",
     "shell.execute_reply": "2022-06-08T14:40:02.289240Z"
    },
    "papermill": {
     "duration": 0.03262,
     "end_time": "2022-06-08T14:40:02.292151",
     "exception": false,
     "start_time": "2022-06-08T14:40:02.259531",
     "status": "completed"
    },
    "tags": []
   },
   "outputs": [
    {
     "data": {
      "text/html": [
       "<div>\n",
       "<style scoped>\n",
       "    .dataframe tbody tr th:only-of-type {\n",
       "        vertical-align: middle;\n",
       "    }\n",
       "\n",
       "    .dataframe tbody tr th {\n",
       "        vertical-align: top;\n",
       "    }\n",
       "\n",
       "    .dataframe thead th {\n",
       "        text-align: right;\n",
       "    }\n",
       "</style>\n",
       "<table border=\"1\" class=\"dataframe\">\n",
       "  <thead>\n",
       "    <tr style=\"text-align: right;\">\n",
       "      <th></th>\n",
       "      <th>total_customer_value</th>\n",
       "      <th>total_order_number</th>\n",
       "      <th>order_channel</th>\n",
       "    </tr>\n",
       "    <tr>\n",
       "      <th>order_channel</th>\n",
       "      <th></th>\n",
       "      <th></th>\n",
       "      <th></th>\n",
       "    </tr>\n",
       "  </thead>\n",
       "  <tbody>\n",
       "    <tr>\n",
       "      <th>Android App</th>\n",
       "      <td>7819062.76</td>\n",
       "      <td>52269.0</td>\n",
       "      <td>9495</td>\n",
       "    </tr>\n",
       "    <tr>\n",
       "      <th>Desktop</th>\n",
       "      <td>1610321.46</td>\n",
       "      <td>10920.0</td>\n",
       "      <td>2735</td>\n",
       "    </tr>\n",
       "    <tr>\n",
       "      <th>Ios App</th>\n",
       "      <td>2525999.93</td>\n",
       "      <td>15351.0</td>\n",
       "      <td>2833</td>\n",
       "    </tr>\n",
       "    <tr>\n",
       "      <th>Mobile</th>\n",
       "      <td>3028183.16</td>\n",
       "      <td>21679.0</td>\n",
       "      <td>4882</td>\n",
       "    </tr>\n",
       "  </tbody>\n",
       "</table>\n",
       "</div>"
      ],
      "text/plain": [
       "               total_customer_value  total_order_number  order_channel\n",
       "order_channel                                                         \n",
       "Android App              7819062.76             52269.0           9495\n",
       "Desktop                  1610321.46             10920.0           2735\n",
       "Ios App                  2525999.93             15351.0           2833\n",
       "Mobile                   3028183.16             21679.0           4882"
      ]
     },
     "execution_count": 6,
     "metadata": {},
     "output_type": "execute_result"
    }
   ],
   "source": [
    "df.groupby(\"order_channel\").agg({\"total_customer_value\":\"sum\",\"total_order_number\":\"sum\",\"order_channel\":\"count\"})"
   ]
  },
  {
   "cell_type": "code",
   "execution_count": 7,
   "id": "f8d85158",
   "metadata": {
    "execution": {
     "iopub.execute_input": "2022-06-08T14:40:02.311343Z",
     "iopub.status.busy": "2022-06-08T14:40:02.310787Z",
     "iopub.status.idle": "2022-06-08T14:40:02.762780Z",
     "shell.execute_reply": "2022-06-08T14:40:02.761573Z"
    },
    "papermill": {
     "duration": 0.464569,
     "end_time": "2022-06-08T14:40:02.765334",
     "exception": false,
     "start_time": "2022-06-08T14:40:02.300765",
     "status": "completed"
    },
    "tags": []
   },
   "outputs": [
    {
     "data": {
      "image/png": "[encoded data removed]",
      "text/plain": [
       "<Figure size 1080x288 with 2 Axes>"
      ]
     },
     "metadata": {},
     "output_type": "display_data"
    }
   ],
   "source": [
    "fig,axes=plt.subplots(1,2,figsize=(15,4))\n",
    "sns.countplot(x=\"order_channel\",data=df,ax=axes[0]);\n",
    "sns.countplot(x=\"last_order_channel\",data=df,ax=axes[1]);"
   ]
  },
  {
   "cell_type": "code",
   "execution_count": 8,
   "id": "4aa251e3",
   "metadata": {
    "execution": {
     "iopub.execute_input": "2022-06-08T14:40:02.785398Z",
     "iopub.status.busy": "2022-06-08T14:40:02.784982Z",
     "iopub.status.idle": "2022-06-08T14:40:03.815626Z",
     "shell.execute_reply": "2022-06-08T14:40:03.814760Z"
    },
    "papermill": {
     "duration": 1.042876,
     "end_time": "2022-06-08T14:40:03.817973",
     "exception": false,
     "start_time": "2022-06-08T14:40:02.775097",
     "status": "completed"
    },
    "tags": []
   },
   "outputs": [
    {
     "data": {
      "image/png": "[encoded data removed]",
      "text/plain": [
       "<Figure size 864x360 with 2 Axes>"
      ]
     },
     "metadata": {},
     "output_type": "display_data"
    }
   ],
   "source": [
    "fig,axes=plt.subplots(1,2,figsize=(12,5))\n",
    "sns.barplot(x=\"order_channel\",y=\"total_customer_value\",data=df,estimator=np.sum,ax=axes[0]);\n",
    "sns.barplot(x=\"order_channel\",y=\"total_order_number\",data=df,estimator=np.sum);\n"
   ]
  },
  {
   "cell_type": "markdown",
   "id": "48a71421",
   "metadata": {
    "papermill": {
     "duration": 0.008392,
     "end_time": "2022-06-08T14:40:03.835165",
     "exception": false,
     "start_time": "2022-06-08T14:40:03.826773",
     "status": "completed"
    },
    "tags": []
   },
   "source": [
    "As it can be seen from the graphs, order_channel is the android app with the most shopping and spending money."
   ]
  },
  {
   "cell_type": "code",
   "execution_count": 9,
   "id": "67858d8b",
   "metadata": {
    "execution": {
     "iopub.execute_input": "2022-06-08T14:40:03.854203Z",
     "iopub.status.busy": "2022-06-08T14:40:03.853809Z",
     "iopub.status.idle": "2022-06-08T14:40:08.802435Z",
     "shell.execute_reply": "2022-06-08T14:40:08.801361Z"
    },
    "papermill": {
     "duration": 4.961006,
     "end_time": "2022-06-08T14:40:08.804771",
     "exception": false,
     "start_time": "2022-06-08T14:40:03.843765",
     "status": "completed"
    },
    "tags": []
   },
   "outputs": [
    {
     "data": {
      "image/png": "[encoded data removed]",
      "text/plain": [
       "<Figure size 864x360 with 2 Axes>"
      ]
     },
     "metadata": {},
     "output_type": "display_data"
    }
   ],
   "source": [
    "fig,axes=plt.subplots(1,2,figsize=(12,5))\n",
    "sns.histplot(x=\"total_customer_value\",data=df,ax=axes[0]);\n",
    "sns.histplot(x=\"total_order_number\",data=df,ax=axes[1]);"
   ]
  },
  {
   "cell_type": "code",
   "execution_count": 10,
   "id": "b686f342",
   "metadata": {
    "execution": {
     "iopub.execute_input": "2022-06-08T14:40:08.824687Z",
     "iopub.status.busy": "2022-06-08T14:40:08.824267Z",
     "iopub.status.idle": "2022-06-08T14:40:08.843973Z",
     "shell.execute_reply": "2022-06-08T14:40:08.842940Z"
    },
    "papermill": {
     "duration": 0.032099,
     "end_time": "2022-06-08T14:40:08.846147",
     "exception": false,
     "start_time": "2022-06-08T14:40:08.814048",
     "status": "completed"
    },
    "tags": []
   },
   "outputs": [
    {
     "data": {
      "text/html": [
       "<div>\n",
       "<style scoped>\n",
       "    .dataframe tbody tr th:only-of-type {\n",
       "        vertical-align: middle;\n",
       "    }\n",
       "\n",
       "    .dataframe tbody tr th {\n",
       "        vertical-align: top;\n",
       "    }\n",
       "\n",
       "    .dataframe thead th {\n",
       "        text-align: right;\n",
       "    }\n",
       "</style>\n",
       "<table border=\"1\" class=\"dataframe\">\n",
       "  <thead>\n",
       "    <tr style=\"text-align: right;\">\n",
       "      <th></th>\n",
       "      <th>master_id</th>\n",
       "      <th>total_customer_value</th>\n",
       "    </tr>\n",
       "  </thead>\n",
       "  <tbody>\n",
       "    <tr>\n",
       "      <th>11150</th>\n",
       "      <td>5d1c466a-9cfd-11e9-9897-000d3a38a36f</td>\n",
       "      <td>45905.10</td>\n",
       "    </tr>\n",
       "    <tr>\n",
       "      <th>4315</th>\n",
       "      <td>d5ef8058-a5c6-11e9-a2fc-000d3a38a36f</td>\n",
       "      <td>36818.29</td>\n",
       "    </tr>\n",
       "    <tr>\n",
       "      <th>7613</th>\n",
       "      <td>73fd19aa-9e37-11e9-9897-000d3a38a36f</td>\n",
       "      <td>33918.10</td>\n",
       "    </tr>\n",
       "    <tr>\n",
       "      <th>13880</th>\n",
       "      <td>7137a5c0-7aad-11ea-8f20-000d3a38a36f</td>\n",
       "      <td>31227.41</td>\n",
       "    </tr>\n",
       "    <tr>\n",
       "      <th>9055</th>\n",
       "      <td>47a642fe-975b-11eb-8c2a-000d3a38a36f</td>\n",
       "      <td>20706.34</td>\n",
       "    </tr>\n",
       "    <tr>\n",
       "      <th>7330</th>\n",
       "      <td>a4d534a2-5b1b-11eb-8dbd-000d3a38a36f</td>\n",
       "      <td>18443.57</td>\n",
       "    </tr>\n",
       "    <tr>\n",
       "      <th>8068</th>\n",
       "      <td>d696c654-2633-11ea-8e1c-000d3a38a36f</td>\n",
       "      <td>16918.57</td>\n",
       "    </tr>\n",
       "    <tr>\n",
       "      <th>163</th>\n",
       "      <td>fef57ffa-aae6-11e9-a2fc-000d3a38a36f</td>\n",
       "      <td>12726.10</td>\n",
       "    </tr>\n",
       "    <tr>\n",
       "      <th>7223</th>\n",
       "      <td>cba59206-9dd1-11e9-9897-000d3a38a36f</td>\n",
       "      <td>12282.24</td>\n",
       "    </tr>\n",
       "    <tr>\n",
       "      <th>18767</th>\n",
       "      <td>fc0ce7a4-9d87-11e9-9897-000d3a38a36f</td>\n",
       "      <td>12103.15</td>\n",
       "    </tr>\n",
       "  </tbody>\n",
       "</table>\n",
       "</div>"
      ],
      "text/plain": [
       "                                  master_id  total_customer_value\n",
       "11150  5d1c466a-9cfd-11e9-9897-000d3a38a36f              45905.10\n",
       "4315   d5ef8058-a5c6-11e9-a2fc-000d3a38a36f              36818.29\n",
       "7613   73fd19aa-9e37-11e9-9897-000d3a38a36f              33918.10\n",
       "13880  7137a5c0-7aad-11ea-8f20-000d3a38a36f              31227.41\n",
       "9055   47a642fe-975b-11eb-8c2a-000d3a38a36f              20706.34\n",
       "7330   a4d534a2-5b1b-11eb-8dbd-000d3a38a36f              18443.57\n",
       "8068   d696c654-2633-11ea-8e1c-000d3a38a36f              16918.57\n",
       "163    fef57ffa-aae6-11e9-a2fc-000d3a38a36f              12726.10\n",
       "7223   cba59206-9dd1-11e9-9897-000d3a38a36f              12282.24\n",
       "18767  fc0ce7a4-9d87-11e9-9897-000d3a38a36f              12103.15"
      ]
     },
     "execution_count": 10,
     "metadata": {},
     "output_type": "execute_result"
    }
   ],
   "source": [
    "# top 10 customers who spend the most\n",
    "df.sort_values(\"total_customer_value\",ascending=False).head(10)[[\"master_id\",\"total_customer_value\"]]"
   ]
  },
  {
   "cell_type": "code",
   "execution_count": 11,
   "id": "a3ab10da",
   "metadata": {
    "execution": {
     "iopub.execute_input": "2022-06-08T14:40:08.867162Z",
     "iopub.status.busy": "2022-06-08T14:40:08.866754Z",
     "iopub.status.idle": "2022-06-08T14:40:08.885245Z",
     "shell.execute_reply": "2022-06-08T14:40:08.884166Z"
    },
    "papermill": {
     "duration": 0.031454,
     "end_time": "2022-06-08T14:40:08.887581",
     "exception": false,
     "start_time": "2022-06-08T14:40:08.856127",
     "status": "completed"
    },
    "tags": []
   },
   "outputs": [
    {
     "data": {
      "text/html": [
       "<div>\n",
       "<style scoped>\n",
       "    .dataframe tbody tr th:only-of-type {\n",
       "        vertical-align: middle;\n",
       "    }\n",
       "\n",
       "    .dataframe tbody tr th {\n",
       "        vertical-align: top;\n",
       "    }\n",
       "\n",
       "    .dataframe thead th {\n",
       "        text-align: right;\n",
       "    }\n",
       "</style>\n",
       "<table border=\"1\" class=\"dataframe\">\n",
       "  <thead>\n",
       "    <tr style=\"text-align: right;\">\n",
       "      <th></th>\n",
       "      <th>master_id</th>\n",
       "      <th>total_order_number</th>\n",
       "    </tr>\n",
       "  </thead>\n",
       "  <tbody>\n",
       "    <tr>\n",
       "      <th>11150</th>\n",
       "      <td>5d1c466a-9cfd-11e9-9897-000d3a38a36f</td>\n",
       "      <td>202.0</td>\n",
       "    </tr>\n",
       "    <tr>\n",
       "      <th>7223</th>\n",
       "      <td>cba59206-9dd1-11e9-9897-000d3a38a36f</td>\n",
       "      <td>131.0</td>\n",
       "    </tr>\n",
       "    <tr>\n",
       "      <th>8783</th>\n",
       "      <td>a57f4302-b1a8-11e9-89fa-000d3a38a36f</td>\n",
       "      <td>111.0</td>\n",
       "    </tr>\n",
       "    <tr>\n",
       "      <th>2619</th>\n",
       "      <td>fdbe8304-a7ab-11e9-a2fc-000d3a38a36f</td>\n",
       "      <td>88.0</td>\n",
       "    </tr>\n",
       "    <tr>\n",
       "      <th>6322</th>\n",
       "      <td>329968c6-a0e2-11e9-a2fc-000d3a38a36f</td>\n",
       "      <td>83.0</td>\n",
       "    </tr>\n",
       "    <tr>\n",
       "      <th>7613</th>\n",
       "      <td>73fd19aa-9e37-11e9-9897-000d3a38a36f</td>\n",
       "      <td>82.0</td>\n",
       "    </tr>\n",
       "    <tr>\n",
       "      <th>9347</th>\n",
       "      <td>44d032ee-a0d4-11e9-a2fc-000d3a38a36f</td>\n",
       "      <td>77.0</td>\n",
       "    </tr>\n",
       "    <tr>\n",
       "      <th>10954</th>\n",
       "      <td>b27e241a-a901-11e9-a2fc-000d3a38a36f</td>\n",
       "      <td>75.0</td>\n",
       "    </tr>\n",
       "    <tr>\n",
       "      <th>8068</th>\n",
       "      <td>d696c654-2633-11ea-8e1c-000d3a38a36f</td>\n",
       "      <td>70.0</td>\n",
       "    </tr>\n",
       "    <tr>\n",
       "      <th>7330</th>\n",
       "      <td>a4d534a2-5b1b-11eb-8dbd-000d3a38a36f</td>\n",
       "      <td>70.0</td>\n",
       "    </tr>\n",
       "  </tbody>\n",
       "</table>\n",
       "</div>"
      ],
      "text/plain": [
       "                                  master_id  total_order_number\n",
       "11150  5d1c466a-9cfd-11e9-9897-000d3a38a36f               202.0\n",
       "7223   cba59206-9dd1-11e9-9897-000d3a38a36f               131.0\n",
       "8783   a57f4302-b1a8-11e9-89fa-000d3a38a36f               111.0\n",
       "2619   fdbe8304-a7ab-11e9-a2fc-000d3a38a36f                88.0\n",
       "6322   329968c6-a0e2-11e9-a2fc-000d3a38a36f                83.0\n",
       "7613   73fd19aa-9e37-11e9-9897-000d3a38a36f                82.0\n",
       "9347   44d032ee-a0d4-11e9-a2fc-000d3a38a36f                77.0\n",
       "10954  b27e241a-a901-11e9-a2fc-000d3a38a36f                75.0\n",
       "8068   d696c654-2633-11ea-8e1c-000d3a38a36f                70.0\n",
       "7330   a4d534a2-5b1b-11eb-8dbd-000d3a38a36f                70.0"
      ]
     },
     "execution_count": 11,
     "metadata": {},
     "output_type": "execute_result"
    }
   ],
   "source": [
    "# 10 customers with the most orders\n",
    "df.sort_values(\"total_order_number\",ascending=False).head(10)[[\"master_id\",\"total_order_number\"]]"
   ]
  },
  {
   "cell_type": "code",
   "execution_count": 12,
   "id": "e23422b1",
   "metadata": {
    "execution": {
     "iopub.execute_input": "2022-06-08T14:40:08.908690Z",
     "iopub.status.busy": "2022-06-08T14:40:08.908243Z",
     "iopub.status.idle": "2022-06-08T14:40:08.916040Z",
     "shell.execute_reply": "2022-06-08T14:40:08.914742Z"
    },
    "papermill": {
     "duration": 0.020647,
     "end_time": "2022-06-08T14:40:08.918077",
     "exception": false,
     "start_time": "2022-06-08T14:40:08.897430",
     "status": "completed"
    },
    "tags": []
   },
   "outputs": [
    {
     "name": "stdout",
     "output_type": "stream",
     "text": [
      "last_order_date: 2021-05-30 00:00:00\n",
      "analysis date: 2021-06-01 00:00:00\n"
     ]
    }
   ],
   "source": [
    "# Analysis date was selected 2 days after the last order date.\n",
    "\n",
    "print(\"last_order_date:\",df[\"last_order_date\"].max())\n",
    "today_date = dt.datetime(2021, 6, 1)\n",
    "print(\"analysis date:\",today_date)"
   ]
  },
  {
   "cell_type": "code",
   "execution_count": 13,
   "id": "fd472fba",
   "metadata": {
    "execution": {
     "iopub.execute_input": "2022-06-08T14:40:08.940566Z",
     "iopub.status.busy": "2022-06-08T14:40:08.938625Z",
     "iopub.status.idle": "2022-06-08T14:40:15.347350Z",
     "shell.execute_reply": "2022-06-08T14:40:15.346332Z"
    },
    "papermill": {
     "duration": 6.422134,
     "end_time": "2022-06-08T14:40:15.349883",
     "exception": false,
     "start_time": "2022-06-08T14:40:08.927749",
     "status": "completed"
    },
    "tags": []
   },
   "outputs": [],
   "source": [
    "rfm = df.groupby('master_id').agg({'last_order_date': lambda last_order_date: (today_date - last_order_date.max()).days, # recency\n",
    "                                     'total_order_number': lambda total_order_number: total_order_number.nunique(),      # frequency\n",
    "                                     'total_customer_value': lambda total_customer_value: total_customer_value.sum()})   # monetary"
   ]
  },
  {
   "cell_type": "code",
   "execution_count": 14,
   "id": "7c67a205",
   "metadata": {
    "execution": {
     "iopub.execute_input": "2022-06-08T14:40:15.371355Z",
     "iopub.status.busy": "2022-06-08T14:40:15.370954Z",
     "iopub.status.idle": "2022-06-08T14:40:15.381847Z",
     "shell.execute_reply": "2022-06-08T14:40:15.380912Z"
    },
    "papermill": {
     "duration": 0.024347,
     "end_time": "2022-06-08T14:40:15.384159",
     "exception": false,
     "start_time": "2022-06-08T14:40:15.359812",
     "status": "completed"
    },
    "tags": []
   },
   "outputs": [
    {
     "data": {
      "text/html": [
       "<div>\n",
       "<style scoped>\n",
       "    .dataframe tbody tr th:only-of-type {\n",
       "        vertical-align: middle;\n",
       "    }\n",
       "\n",
       "    .dataframe tbody tr th {\n",
       "        vertical-align: top;\n",
       "    }\n",
       "\n",
       "    .dataframe thead th {\n",
       "        text-align: right;\n",
       "    }\n",
       "</style>\n",
       "<table border=\"1\" class=\"dataframe\">\n",
       "  <thead>\n",
       "    <tr style=\"text-align: right;\">\n",
       "      <th></th>\n",
       "      <th>recency</th>\n",
       "      <th>frequency</th>\n",
       "      <th>monetary</th>\n",
       "    </tr>\n",
       "    <tr>\n",
       "      <th>master_id</th>\n",
       "      <th></th>\n",
       "      <th></th>\n",
       "      <th></th>\n",
       "    </tr>\n",
       "  </thead>\n",
       "  <tbody>\n",
       "    <tr>\n",
       "      <th>00016786-2f5a-11ea-bb80-000d3a38a36f</th>\n",
       "      <td>10</td>\n",
       "      <td>1</td>\n",
       "      <td>776.07</td>\n",
       "    </tr>\n",
       "    <tr>\n",
       "      <th>00034aaa-a838-11e9-a2fc-000d3a38a36f</th>\n",
       "      <td>298</td>\n",
       "      <td>1</td>\n",
       "      <td>269.47</td>\n",
       "    </tr>\n",
       "    <tr>\n",
       "      <th>000be838-85df-11ea-a90b-000d3a38a36f</th>\n",
       "      <td>213</td>\n",
       "      <td>1</td>\n",
       "      <td>722.69</td>\n",
       "    </tr>\n",
       "    <tr>\n",
       "      <th>000c1fe2-a8b7-11ea-8479-000d3a38a36f</th>\n",
       "      <td>27</td>\n",
       "      <td>1</td>\n",
       "      <td>874.16</td>\n",
       "    </tr>\n",
       "    <tr>\n",
       "      <th>000f5e3e-9dde-11ea-80cd-000d3a38a36f</th>\n",
       "      <td>20</td>\n",
       "      <td>1</td>\n",
       "      <td>1620.33</td>\n",
       "    </tr>\n",
       "  </tbody>\n",
       "</table>\n",
       "</div>"
      ],
      "text/plain": [
       "                                      recency  frequency  monetary\n",
       "master_id                                                         \n",
       "00016786-2f5a-11ea-bb80-000d3a38a36f       10          1    776.07\n",
       "00034aaa-a838-11e9-a2fc-000d3a38a36f      298          1    269.47\n",
       "000be838-85df-11ea-a90b-000d3a38a36f      213          1    722.69\n",
       "000c1fe2-a8b7-11ea-8479-000d3a38a36f       27          1    874.16\n",
       "000f5e3e-9dde-11ea-80cd-000d3a38a36f       20          1   1620.33"
      ]
     },
     "execution_count": 14,
     "metadata": {},
     "output_type": "execute_result"
    }
   ],
   "source": [
    "rfm.columns=['recency', 'frequency', 'monetary']\n",
    "rfm.head()"
   ]
  },
  {
   "cell_type": "code",
   "execution_count": 15,
   "id": "52295919",
   "metadata": {
    "execution": {
     "iopub.execute_input": "2022-06-08T14:40:15.405676Z",
     "iopub.status.busy": "2022-06-08T14:40:15.405255Z",
     "iopub.status.idle": "2022-06-08T14:40:15.435097Z",
     "shell.execute_reply": "2022-06-08T14:40:15.433989Z"
    },
    "papermill": {
     "duration": 0.043293,
     "end_time": "2022-06-08T14:40:15.437457",
     "exception": false,
     "start_time": "2022-06-08T14:40:15.394164",
     "status": "completed"
    },
    "tags": []
   },
   "outputs": [
    {
     "data": {
      "text/html": [
       "<div>\n",
       "<style scoped>\n",
       "    .dataframe tbody tr th:only-of-type {\n",
       "        vertical-align: middle;\n",
       "    }\n",
       "\n",
       "    .dataframe tbody tr th {\n",
       "        vertical-align: top;\n",
       "    }\n",
       "\n",
       "    .dataframe thead th {\n",
       "        text-align: right;\n",
       "    }\n",
       "</style>\n",
       "<table border=\"1\" class=\"dataframe\">\n",
       "  <thead>\n",
       "    <tr style=\"text-align: right;\">\n",
       "      <th></th>\n",
       "      <th>count</th>\n",
       "      <th>mean</th>\n",
       "      <th>std</th>\n",
       "      <th>min</th>\n",
       "      <th>25%</th>\n",
       "      <th>50%</th>\n",
       "      <th>75%</th>\n",
       "      <th>max</th>\n",
       "    </tr>\n",
       "  </thead>\n",
       "  <tbody>\n",
       "    <tr>\n",
       "      <th>recency</th>\n",
       "      <td>19945.0</td>\n",
       "      <td>134.458360</td>\n",
       "      <td>103.281149</td>\n",
       "      <td>2.00</td>\n",
       "      <td>43.00</td>\n",
       "      <td>111.00</td>\n",
       "      <td>202.00</td>\n",
       "      <td>367.0</td>\n",
       "    </tr>\n",
       "    <tr>\n",
       "      <th>frequency</th>\n",
       "      <td>19945.0</td>\n",
       "      <td>1.000000</td>\n",
       "      <td>0.000000</td>\n",
       "      <td>1.00</td>\n",
       "      <td>1.00</td>\n",
       "      <td>1.00</td>\n",
       "      <td>1.00</td>\n",
       "      <td>1.0</td>\n",
       "    </tr>\n",
       "    <tr>\n",
       "      <th>monetary</th>\n",
       "      <td>19945.0</td>\n",
       "      <td>751.244287</td>\n",
       "      <td>895.402173</td>\n",
       "      <td>44.98</td>\n",
       "      <td>339.98</td>\n",
       "      <td>545.27</td>\n",
       "      <td>897.78</td>\n",
       "      <td>45905.1</td>\n",
       "    </tr>\n",
       "  </tbody>\n",
       "</table>\n",
       "</div>"
      ],
      "text/plain": [
       "             count        mean         std    min     25%     50%     75%  \\\n",
       "recency    19945.0  134.458360  103.281149   2.00   43.00  111.00  202.00   \n",
       "frequency  19945.0    1.000000    0.000000   1.00    1.00    1.00    1.00   \n",
       "monetary   19945.0  751.244287  895.402173  44.98  339.98  545.27  897.78   \n",
       "\n",
       "               max  \n",
       "recency      367.0  \n",
       "frequency      1.0  \n",
       "monetary   45905.1  "
      ]
     },
     "execution_count": 15,
     "metadata": {},
     "output_type": "execute_result"
    }
   ],
   "source": [
    "rfm.describe().T"
   ]
  },
  {
   "cell_type": "markdown",
   "id": "5cdb9bdd",
   "metadata": {
    "papermill": {
     "duration": 0.010429,
     "end_time": "2022-06-08T14:40:15.458226",
     "exception": false,
     "start_time": "2022-06-08T14:40:15.447797",
     "status": "completed"
    },
    "tags": []
   },
   "source": [
    "To determine customer segments, frequency and recency values are divided into 5 parts with the qcut function. and is scored between 1 and 5. and 5 points are given to the person who shopped most recently, that is, the person with less recency value is more valuable.\n",
    "In monetary and frequency, the lowest value was given 1 point, the highest value 5 points."
   ]
  },
  {
   "cell_type": "code",
   "execution_count": 16,
   "id": "2ee9ade0",
   "metadata": {
    "execution": {
     "iopub.execute_input": "2022-06-08T14:40:15.480795Z",
     "iopub.status.busy": "2022-06-08T14:40:15.480423Z",
     "iopub.status.idle": "2022-06-08T14:40:15.500182Z",
     "shell.execute_reply": "2022-06-08T14:40:15.499307Z"
    },
    "papermill": {
     "duration": 0.033737,
     "end_time": "2022-06-08T14:40:15.502514",
     "exception": false,
     "start_time": "2022-06-08T14:40:15.468777",
     "status": "completed"
    },
    "tags": []
   },
   "outputs": [],
   "source": [
    "rfm[\"recency_score\"] = pd.qcut(rfm['recency'], 5, labels=[5, 4, 3, 2, 1])\n",
    "\n",
    "rfm[\"frequency_score\"] = pd.qcut(rfm['frequency'].rank(method=\"first\"), 5, labels=[1, 2, 3, 4, 5])\n",
    "\n",
    "rfm[\"monetary_score\"] = pd.qcut(rfm['monetary'], 5, labels=[1, 2, 3, 4, 5])"
   ]
  },
  {
   "cell_type": "code",
   "execution_count": 17,
   "id": "10b6caff",
   "metadata": {
    "execution": {
     "iopub.execute_input": "2022-06-08T14:40:15.525009Z",
     "iopub.status.busy": "2022-06-08T14:40:15.524602Z",
     "iopub.status.idle": "2022-06-08T14:40:15.537920Z",
     "shell.execute_reply": "2022-06-08T14:40:15.537093Z"
    },
    "papermill": {
     "duration": 0.026837,
     "end_time": "2022-06-08T14:40:15.539862",
     "exception": false,
     "start_time": "2022-06-08T14:40:15.513025",
     "status": "completed"
    },
    "tags": []
   },
   "outputs": [],
   "source": [
    "rfm[\"RFM_SCORE\"] = (rfm['recency_score'].astype(str) +\n",
    "                    rfm['frequency_score'].astype(str))"
   ]
  },
  {
   "cell_type": "code",
   "execution_count": 18,
   "id": "13600a65",
   "metadata": {
    "execution": {
     "iopub.execute_input": "2022-06-08T14:40:15.562275Z",
     "iopub.status.busy": "2022-06-08T14:40:15.561876Z",
     "iopub.status.idle": "2022-06-08T14:40:15.573863Z",
     "shell.execute_reply": "2022-06-08T14:40:15.573166Z"
    },
    "papermill": {
     "duration": 0.025627,
     "end_time": "2022-06-08T14:40:15.576030",
     "exception": false,
     "start_time": "2022-06-08T14:40:15.550403",
     "status": "completed"
    },
    "tags": []
   },
   "outputs": [
    {
     "data": {
      "text/plain": [
       "master_id\n",
       "00016786-2f5a-11ea-bb80-000d3a38a36f    51\n",
       "00034aaa-a838-11e9-a2fc-000d3a38a36f    11\n",
       "000be838-85df-11ea-a90b-000d3a38a36f    21\n",
       "000c1fe2-a8b7-11ea-8479-000d3a38a36f    51\n",
       "000f5e3e-9dde-11ea-80cd-000d3a38a36f    51\n",
       "                                        ..\n",
       "fff1db94-afd9-11ea-b736-000d3a38a36f    25\n",
       "fff4736a-60a4-11ea-8dd8-000d3a38a36f    45\n",
       "fffacd34-ae14-11e9-a2fc-000d3a38a36f    15\n",
       "fffacecc-ddc3-11e9-a848-000d3a38a36f    35\n",
       "fffe4b30-18e0-11ea-9213-000d3a38a36f    15\n",
       "Name: RFM_SCORE, Length: 19945, dtype: object"
      ]
     },
     "execution_count": 18,
     "metadata": {},
     "output_type": "execute_result"
    }
   ],
   "source": [
    "rfm[\"RFM_SCORE\"]"
   ]
  },
  {
   "cell_type": "code",
   "execution_count": 19,
   "id": "3ed4d183",
   "metadata": {
    "execution": {
     "iopub.execute_input": "2022-06-08T14:40:15.599949Z",
     "iopub.status.busy": "2022-06-08T14:40:15.599131Z",
     "iopub.status.idle": "2022-06-08T14:40:15.604739Z",
     "shell.execute_reply": "2022-06-08T14:40:15.603772Z"
    },
    "papermill": {
     "duration": 0.020134,
     "end_time": "2022-06-08T14:40:15.607043",
     "exception": false,
     "start_time": "2022-06-08T14:40:15.586909",
     "status": "completed"
    },
    "tags": []
   },
   "outputs": [],
   "source": [
    "# rfm customer segments\n",
    "\n",
    "segment_map = {\n",
    "    r'[1-2][1-2]': 'hibernating',\n",
    "    r'[1-2][3-4]': 'at_Risk',\n",
    "    r'[1-2]5': 'cant_loose',\n",
    "    r'3[1-2]': 'about_to_sleep',\n",
    "    r'33': 'need_attention',\n",
    "    r'[3-4][4-5]': 'loyal_customers',\n",
    "    r'41': 'promising',\n",
    "    r'51': 'new_customers',\n",
    "    r'[4-5][2-3]': 'potential_loyalists',\n",
    "    r'5[4-5]': 'champions'\n",
    "}"
   ]
  },
  {
   "cell_type": "code",
   "execution_count": 20,
   "id": "d2cb8b0f",
   "metadata": {
    "execution": {
     "iopub.execute_input": "2022-06-08T14:40:15.631022Z",
     "iopub.status.busy": "2022-06-08T14:40:15.630644Z",
     "iopub.status.idle": "2022-06-08T14:40:16.037897Z",
     "shell.execute_reply": "2022-06-08T14:40:16.036940Z"
    },
    "papermill": {
     "duration": 0.422436,
     "end_time": "2022-06-08T14:40:16.040451",
     "exception": false,
     "start_time": "2022-06-08T14:40:15.618015",
     "status": "completed"
    },
    "tags": []
   },
   "outputs": [],
   "source": [
    "rfm['segment'] = rfm['RFM_SCORE'].replace(segment_map, regex=True)"
   ]
  },
  {
   "cell_type": "code",
   "execution_count": 21,
   "id": "c861235e",
   "metadata": {
    "execution": {
     "iopub.execute_input": "2022-06-08T14:40:16.065010Z",
     "iopub.status.busy": "2022-06-08T14:40:16.064117Z",
     "iopub.status.idle": "2022-06-08T14:40:16.081707Z",
     "shell.execute_reply": "2022-06-08T14:40:16.080890Z"
    },
    "papermill": {
     "duration": 0.032046,
     "end_time": "2022-06-08T14:40:16.083743",
     "exception": false,
     "start_time": "2022-06-08T14:40:16.051697",
     "status": "completed"
    },
    "tags": []
   },
   "outputs": [
    {
     "data": {
      "text/html": [
       "<div>\n",
       "<style scoped>\n",
       "    .dataframe tbody tr th:only-of-type {\n",
       "        vertical-align: middle;\n",
       "    }\n",
       "\n",
       "    .dataframe tbody tr th {\n",
       "        vertical-align: top;\n",
       "    }\n",
       "\n",
       "    .dataframe thead th {\n",
       "        text-align: right;\n",
       "    }\n",
       "</style>\n",
       "<table border=\"1\" class=\"dataframe\">\n",
       "  <thead>\n",
       "    <tr style=\"text-align: right;\">\n",
       "      <th></th>\n",
       "      <th>master_id</th>\n",
       "      <th>recency</th>\n",
       "      <th>frequency</th>\n",
       "      <th>monetary</th>\n",
       "      <th>recency_score</th>\n",
       "      <th>frequency_score</th>\n",
       "      <th>monetary_score</th>\n",
       "      <th>RFM_SCORE</th>\n",
       "      <th>segment</th>\n",
       "    </tr>\n",
       "  </thead>\n",
       "  <tbody>\n",
       "    <tr>\n",
       "      <th>0</th>\n",
       "      <td>00016786-2f5a-11ea-bb80-000d3a38a36f</td>\n",
       "      <td>10</td>\n",
       "      <td>1</td>\n",
       "      <td>776.07</td>\n",
       "      <td>5</td>\n",
       "      <td>1</td>\n",
       "      <td>4</td>\n",
       "      <td>51</td>\n",
       "      <td>new_customers</td>\n",
       "    </tr>\n",
       "    <tr>\n",
       "      <th>1</th>\n",
       "      <td>00034aaa-a838-11e9-a2fc-000d3a38a36f</td>\n",
       "      <td>298</td>\n",
       "      <td>1</td>\n",
       "      <td>269.47</td>\n",
       "      <td>1</td>\n",
       "      <td>1</td>\n",
       "      <td>1</td>\n",
       "      <td>11</td>\n",
       "      <td>hibernating</td>\n",
       "    </tr>\n",
       "    <tr>\n",
       "      <th>2</th>\n",
       "      <td>000be838-85df-11ea-a90b-000d3a38a36f</td>\n",
       "      <td>213</td>\n",
       "      <td>1</td>\n",
       "      <td>722.69</td>\n",
       "      <td>2</td>\n",
       "      <td>1</td>\n",
       "      <td>4</td>\n",
       "      <td>21</td>\n",
       "      <td>hibernating</td>\n",
       "    </tr>\n",
       "    <tr>\n",
       "      <th>3</th>\n",
       "      <td>000c1fe2-a8b7-11ea-8479-000d3a38a36f</td>\n",
       "      <td>27</td>\n",
       "      <td>1</td>\n",
       "      <td>874.16</td>\n",
       "      <td>5</td>\n",
       "      <td>1</td>\n",
       "      <td>4</td>\n",
       "      <td>51</td>\n",
       "      <td>new_customers</td>\n",
       "    </tr>\n",
       "    <tr>\n",
       "      <th>4</th>\n",
       "      <td>000f5e3e-9dde-11ea-80cd-000d3a38a36f</td>\n",
       "      <td>20</td>\n",
       "      <td>1</td>\n",
       "      <td>1620.33</td>\n",
       "      <td>5</td>\n",
       "      <td>1</td>\n",
       "      <td>5</td>\n",
       "      <td>51</td>\n",
       "      <td>new_customers</td>\n",
       "    </tr>\n",
       "  </tbody>\n",
       "</table>\n",
       "</div>"
      ],
      "text/plain": [
       "                              master_id  recency  frequency  monetary  \\\n",
       "0  00016786-2f5a-11ea-bb80-000d3a38a36f       10          1    776.07   \n",
       "1  00034aaa-a838-11e9-a2fc-000d3a38a36f      298          1    269.47   \n",
       "2  000be838-85df-11ea-a90b-000d3a38a36f      213          1    722.69   \n",
       "3  000c1fe2-a8b7-11ea-8479-000d3a38a36f       27          1    874.16   \n",
       "4  000f5e3e-9dde-11ea-80cd-000d3a38a36f       20          1   1620.33   \n",
       "\n",
       "  recency_score frequency_score monetary_score RFM_SCORE        segment  \n",
       "0             5               1              4        51  new_customers  \n",
       "1             1               1              1        11    hibernating  \n",
       "2             2               1              4        21    hibernating  \n",
       "3             5               1              4        51  new_customers  \n",
       "4             5               1              5        51  new_customers  "
      ]
     },
     "execution_count": 21,
     "metadata": {},
     "output_type": "execute_result"
    }
   ],
   "source": [
    "rfm=rfm.reset_index()\n",
    "rfm.head()"
   ]
  },
  {
   "cell_type": "code",
   "execution_count": 22,
   "id": "4e321295",
   "metadata": {
    "execution": {
     "iopub.execute_input": "2022-06-08T14:40:16.108595Z",
     "iopub.status.busy": "2022-06-08T14:40:16.107734Z",
     "iopub.status.idle": "2022-06-08T14:40:16.140128Z",
     "shell.execute_reply": "2022-06-08T14:40:16.138982Z"
    },
    "papermill": {
     "duration": 0.047467,
     "end_time": "2022-06-08T14:40:16.142685",
     "exception": false,
     "start_time": "2022-06-08T14:40:16.095218",
     "status": "completed"
    },
    "tags": []
   },
   "outputs": [
    {
     "data": {
      "text/html": [
       "<div>\n",
       "<style scoped>\n",
       "    .dataframe tbody tr th:only-of-type {\n",
       "        vertical-align: middle;\n",
       "    }\n",
       "\n",
       "    .dataframe tbody tr th {\n",
       "        vertical-align: top;\n",
       "    }\n",
       "\n",
       "    .dataframe thead tr th {\n",
       "        text-align: left;\n",
       "    }\n",
       "\n",
       "    .dataframe thead tr:last-of-type th {\n",
       "        text-align: right;\n",
       "    }\n",
       "</style>\n",
       "<table border=\"1\" class=\"dataframe\">\n",
       "  <thead>\n",
       "    <tr>\n",
       "      <th></th>\n",
       "      <th colspan=\"2\" halign=\"left\">recency</th>\n",
       "      <th colspan=\"2\" halign=\"left\">frequency</th>\n",
       "      <th colspan=\"2\" halign=\"left\">monetary</th>\n",
       "    </tr>\n",
       "    <tr>\n",
       "      <th></th>\n",
       "      <th>mean</th>\n",
       "      <th>count</th>\n",
       "      <th>mean</th>\n",
       "      <th>count</th>\n",
       "      <th>mean</th>\n",
       "      <th>count</th>\n",
       "    </tr>\n",
       "    <tr>\n",
       "      <th>segment</th>\n",
       "      <th></th>\n",
       "      <th></th>\n",
       "      <th></th>\n",
       "      <th></th>\n",
       "      <th></th>\n",
       "      <th></th>\n",
       "    </tr>\n",
       "  </thead>\n",
       "  <tbody>\n",
       "    <tr>\n",
       "      <th>about_to_sleep</th>\n",
       "      <td>113.396994</td>\n",
       "      <td>1597</td>\n",
       "      <td>1.0</td>\n",
       "      <td>1597</td>\n",
       "      <td>696.260914</td>\n",
       "      <td>1597</td>\n",
       "    </tr>\n",
       "    <tr>\n",
       "      <th>at_Risk</th>\n",
       "      <td>243.290425</td>\n",
       "      <td>3154</td>\n",
       "      <td>1.0</td>\n",
       "      <td>3154</td>\n",
       "      <td>652.210117</td>\n",
       "      <td>3154</td>\n",
       "    </tr>\n",
       "    <tr>\n",
       "      <th>cant_loose</th>\n",
       "      <td>243.276373</td>\n",
       "      <td>1621</td>\n",
       "      <td>1.0</td>\n",
       "      <td>1621</td>\n",
       "      <td>663.802424</td>\n",
       "      <td>1621</td>\n",
       "    </tr>\n",
       "    <tr>\n",
       "      <th>champions</th>\n",
       "      <td>17.442284</td>\n",
       "      <td>1594</td>\n",
       "      <td>1.0</td>\n",
       "      <td>1594</td>\n",
       "      <td>921.381092</td>\n",
       "      <td>1594</td>\n",
       "    </tr>\n",
       "    <tr>\n",
       "      <th>hibernating</th>\n",
       "      <td>243.963608</td>\n",
       "      <td>3160</td>\n",
       "      <td>1.0</td>\n",
       "      <td>3160</td>\n",
       "      <td>626.845114</td>\n",
       "      <td>3160</td>\n",
       "    </tr>\n",
       "    <tr>\n",
       "      <th>loyal_customers</th>\n",
       "      <td>86.464612</td>\n",
       "      <td>3179</td>\n",
       "      <td>1.0</td>\n",
       "      <td>3179</td>\n",
       "      <td>784.635225</td>\n",
       "      <td>3179</td>\n",
       "    </tr>\n",
       "    <tr>\n",
       "      <th>need_attention</th>\n",
       "      <td>112.617949</td>\n",
       "      <td>780</td>\n",
       "      <td>1.0</td>\n",
       "      <td>780</td>\n",
       "      <td>716.807667</td>\n",
       "      <td>780</td>\n",
       "    </tr>\n",
       "    <tr>\n",
       "      <th>new_customers</th>\n",
       "      <td>17.389549</td>\n",
       "      <td>842</td>\n",
       "      <td>1.0</td>\n",
       "      <td>842</td>\n",
       "      <td>917.125534</td>\n",
       "      <td>842</td>\n",
       "    </tr>\n",
       "    <tr>\n",
       "      <th>potential_loyalists</th>\n",
       "      <td>36.558054</td>\n",
       "      <td>3247</td>\n",
       "      <td>1.0</td>\n",
       "      <td>3247</td>\n",
       "      <td>880.911783</td>\n",
       "      <td>3247</td>\n",
       "    </tr>\n",
       "    <tr>\n",
       "      <th>promising</th>\n",
       "      <td>57.329442</td>\n",
       "      <td>771</td>\n",
       "      <td>1.0</td>\n",
       "      <td>771</td>\n",
       "      <td>782.135603</td>\n",
       "      <td>771</td>\n",
       "    </tr>\n",
       "  </tbody>\n",
       "</table>\n",
       "</div>"
      ],
      "text/plain": [
       "                        recency       frequency          monetary      \n",
       "                           mean count      mean count        mean count\n",
       "segment                                                                \n",
       "about_to_sleep       113.396994  1597       1.0  1597  696.260914  1597\n",
       "at_Risk              243.290425  3154       1.0  3154  652.210117  3154\n",
       "cant_loose           243.276373  1621       1.0  1621  663.802424  1621\n",
       "champions             17.442284  1594       1.0  1594  921.381092  1594\n",
       "hibernating          243.963608  3160       1.0  3160  626.845114  3160\n",
       "loyal_customers       86.464612  3179       1.0  3179  784.635225  3179\n",
       "need_attention       112.617949   780       1.0   780  716.807667   780\n",
       "new_customers         17.389549   842       1.0   842  917.125534   842\n",
       "potential_loyalists   36.558054  3247       1.0  3247  880.911783  3247\n",
       "promising             57.329442   771       1.0   771  782.135603   771"
      ]
     },
     "execution_count": 22,
     "metadata": {},
     "output_type": "execute_result"
    }
   ],
   "source": [
    "rfm[[\"segment\", \"recency\", \"frequency\", \"monetary\"]].groupby(\"segment\").agg([\"mean\", \"count\"])"
   ]
  },
  {
   "cell_type": "markdown",
   "id": "70cdf6fa",
   "metadata": {
    "papermill": {
     "duration": 0.011487,
     "end_time": "2022-06-08T14:40:16.166053",
     "exception": false,
     "start_time": "2022-06-08T14:40:16.154566",
     "status": "completed"
    },
    "tags": []
   },
   "source": [
    "company's request 1:\n",
    "The company is adding a new women's shoe brand. The product prices of the brand it includes are above the general customer preferences. For this reason, it is desired to contact the customers in the profile that will be interested in the promotion of the brand and product sales. Those who shop from their loyal customers (champions, loyal_customers) and women category are the customers to be contacted specifically. Save the id numbers of these customers to the csv file."
   ]
  },
  {
   "cell_type": "code",
   "execution_count": 23,
   "id": "df380d19",
   "metadata": {
    "execution": {
     "iopub.execute_input": "2022-06-08T14:40:16.192233Z",
     "iopub.status.busy": "2022-06-08T14:40:16.190947Z",
     "iopub.status.idle": "2022-06-08T14:40:16.216787Z",
     "shell.execute_reply": "2022-06-08T14:40:16.216009Z"
    },
    "papermill": {
     "duration": 0.04137,
     "end_time": "2022-06-08T14:40:16.219271",
     "exception": false,
     "start_time": "2022-06-08T14:40:16.177901",
     "status": "completed"
    },
    "tags": []
   },
   "outputs": [],
   "source": [
    "target_customers_index=rfm[(rfm[\"segment\"]==\"champions\") | (rfm[\"segment\"]==\"loyal_customers\")][\"master_id\"].index.to_list()\n",
    "\n",
    "target_customers=df.loc[target_customers_index]\n",
    "\n",
    "target_customers=target_customers[target_customers[\"interested_in_categories_12\"].str.contains(\"KADIN\")].head()\n",
    "\n",
    "target_customers[\"master_id\"].to_csv(\"request_1.csv\")"
   ]
  },
  {
   "cell_type": "markdown",
   "id": "f904b28f",
   "metadata": {
    "papermill": {
     "duration": 0.011516,
     "end_time": "2022-06-08T14:40:16.242708",
     "exception": false,
     "start_time": "2022-06-08T14:40:16.231192",
     "status": "completed"
    },
    "tags": []
   },
   "source": [
    "* company's request 2: Nearly 40% discount is planned for Men's and Children's products. It is aimed to specifically target customers who are good customers in the past, but who have not shopped for a long time, who are interested in categories related to this discount, who should not be lost, those who are asleep and new customers. Save the ids of the customers in the appropriate profile to the csv file.\n",
    "\n",
    "* According to the company's request, we must find customers in the following segments: can't loose them, at risk ,about to sleep, new customers."
   ]
  },
  {
   "cell_type": "code",
   "execution_count": 24,
   "id": "44b9e31f",
   "metadata": {
    "execution": {
     "iopub.execute_input": "2022-06-08T14:40:16.268450Z",
     "iopub.status.busy": "2022-06-08T14:40:16.267488Z",
     "iopub.status.idle": "2022-06-08T14:40:16.309880Z",
     "shell.execute_reply": "2022-06-08T14:40:16.309030Z"
    },
    "papermill": {
     "duration": 0.05768,
     "end_time": "2022-06-08T14:40:16.312193",
     "exception": false,
     "start_time": "2022-06-08T14:40:16.254513",
     "status": "completed"
    },
    "tags": []
   },
   "outputs": [],
   "source": [
    "rfm[(rfm[\"segment\"]==\"cant_loose\") | (rfm[\"segment\"]==\"at_Risk\") |\n",
    "    (rfm[\"segment\"]==\"about_to_sleep\") |\n",
    "    (rfm[\"segment\"]==\"new_customers\")][\"master_id\"].to_csv(\"request_2.csv\")"
   ]
  }
 ],
 "metadata": {
  "kernelspec": {
   "display_name": "Python 3",
   "language": "python",
   "name": "python3"
  },
  "language_info": {
   "codemirror_mode": {
    "name": "ipython",
    "version": 3
   },
   "file_extension": ".py",
   "mimetype": "text/x-python",
   "name": "python",
   "nbconvert_exporter": "python",
   "pygments_lexer": "ipython3",
   "version": "3.7.12"
  },
  "papermill": {
   "default_parameters": {},
   "duration": 26.443034,
   "end_time": "2022-06-08T14:40:17.144953",
   "environment_variables": {},
   "exception": null,
   "input_path": "__notebook__.ipynb",
   "output_path": "__notebook__.ipynb",
   "parameters": {},
   "start_time": "2022-06-08T14:39:50.701919",
   "version": "2.3.4"
  }
 },
 "nbformat": 4,
 "nbformat_minor": 5
}
