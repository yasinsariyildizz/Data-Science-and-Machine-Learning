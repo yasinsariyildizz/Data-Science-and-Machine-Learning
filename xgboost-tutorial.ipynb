{
 "cells": [
  {
   "cell_type": "markdown",
   "id": "9539b36f",
   "metadata": {
    "papermill": {
     "duration": 0.025878,
     "end_time": "2022-06-06T15:00:15.471717",
     "exception": false,
     "start_time": "2022-06-06T15:00:15.445839",
     "status": "completed"
    },
    "tags": []
   },
   "source": [
    "###                                            **XGBOOST**"
   ]
  },
  {
   "cell_type": "markdown",
   "id": "657e6657",
   "metadata": {
    "papermill": {
     "duration": 0.024517,
     "end_time": "2022-06-06T15:00:15.521018",
     "exception": false,
     "start_time": "2022-06-06T15:00:15.496501",
     "status": "completed"
    },
    "tags": []
   },
   "source": [
    "* XGBoost is a high-performance version of the Gradient Boosting algorithm optimized with various modifications.It was started to be used by Tianqi Chen and Carlos Guestrin in the article \"XGBoost: A Scalable Tree Boosting System\" in 2016. \n",
    "\n",
    "* XGBoost has a similar working logic to Gradient Boosting, but there are some differences and advanteges\n",
    "1. **Regularization** : While there is no regularization in GBM, XGBoost has regularization parameters such as alpha and lambda. therefore it is resistant to 'overfitting'. It's also called ‘regularized boosting‘ technique.It performs regularization process with alpha, lambda and gamma parameters.\n",
    "\n",
    "2. **Parallel Processing** : It is powered by software and hardware optimization techniques to achieve better results using less resources. So XGBoost implements parallel processing and is much faster compared to GBM.\n",
    "\n",
    "\n",
    "3. **Tree Pruning** : A GBM stops splitting a node when it encounters a negative loss in the split. Therefore it is more of a greedy algorithm. XGBoost, on the other hand, splits up to the specified max_depth and then starts pruning back the tree, removing splits beyond which there is no positive gain.\n",
    "\n",
    "4. **System Optimization**\n",
    "\n",
    "* Cache memory is the type of memory that is used the fastest but has the smallest space. If a program is desired to run fast, the cache should be used at the maximum level. XGBoost calculates similarity score and tree output value in cache. For this reason, quick calculations can be made."
   ]
  },
  {
   "cell_type": "markdown",
   "id": "29461641",
   "metadata": {
    "papermill": {
     "duration": 0.024473,
     "end_time": "2022-06-06T15:00:15.570167",
     "exception": false,
     "start_time": "2022-06-06T15:00:15.545694",
     "status": "completed"
    },
    "tags": []
   },
   "source": [
    "**Steps**\n",
    "\n",
    "* The first step in XGBoost is to make the first guess, that is, to determine the base score. The base score is usually set at 0.5. So the initial prediction values are 0.5. Then the residuals are obtained by subtracting 0.5 from the actual y values. A tree model is established with these residues obtained as in GBM.\n",
    "\n",
    "\n",
    "* First, all residuals are collected at the initial node and the similarity score of this node is calculated. Then, trees are created by dividing each independent variable by threshold values. The similarity score and gain value in each tree are calculated.In this way, all possible trees are created and the tree with the highest gain value is continued. These operations are done with greedy algorithm logic.Similarity score is the evaluation metric for nodes. Gain score is an evaluation criterion for trees.\n",
    "\n",
    "* Similarity Score = (Sum of Residuals)^2 / (number of Residuals + λ )\n",
    "* Gain = Left Similarity + Right Similarity - Root Similarity\n",
    "\n",
    "* Since calculating these similarity and gain scores would take a long time on large datasets, xgboost divides the data into quantiles instead of examining each value in the data.\n",
    "\n",
    "* The default number of quantile is 33. As the number of quantiles increases, xgboost will look at smaller ranges and make better predictions, but at the same time the training time will be longer.An algorithm called \"Sketches\" is used to overcome this training time problem. The “Sketches” algorithm converges to find the quantiles.\n",
    "\n",
    "* After the tree with the highest gain score is determined, the pruning process is started.During the pruning process, the \"gamma\" hyperparameter is used as a metric. if Gain Score < Gamma,the branch is pruned.As gamma increases, the most valuable branches remain on the tree and This pruning helps prevent overfitting.Pruning is done from the bottom to the top. If the bottom branch is not pruned, the upper branches are not examined.\n",
    "\n",
    "* Prediction is made after the pruning process is completed.The tree prediction is multiplied by the learning rate and added to the prediction value of the first tree, and a new prediction value is formed. These operations continue until the specified number of iterations, namely n_estimators (number of boosting trees).\n",
    " * New Prediction = First Prediction + (Learnin Rate)* (Second Prediction)\n",
    "\n",
    "\n",
    "\n",
    "\n"
   ]
  },
  {
   "cell_type": "markdown",
   "id": "62fddee9",
   "metadata": {
    "papermill": {
     "duration": 0.024514,
     "end_time": "2022-06-06T15:00:15.619681",
     "exception": false,
     "start_time": "2022-06-06T15:00:15.595167",
     "status": "completed"
    },
    "tags": []
   },
   "source": [
    "**Hyperparameters**\n",
    "* **Booster Parameters** \n",
    "1. **eta / learning_rate** :  [default=0.3] , range: [0,1]\n",
    "* Step size shrinkage used in update to prevents overfitting. After each boosting step, we can directly get the weights of new features, and eta shrinks the feature weights to make the boosting process more conservative.It is a parameter that prevents overfitting. \n",
    "\n",
    "2. **min_child_weight** : [default=1],  range: [0,∞]\n",
    "* Minimum sum of instance weight (hessian) needed in a child. If the tree partition step results in a leaf node with the sum of instance weight less than min_child_weight, then the building process will give up further partitioning. In linear regression task, this simply corresponds to minimum number of instances needed to be in each node. The larger min_child_weight is, the more conservative the algorithm will be. Used to control over-fitting. Higher values prevent a model from learning relations which might be highly specific to the particular sample selected for a tree. Too high values can lead to under-fitting.\n",
    "\n",
    "3. **max_depth** : [default=6], range: [0,∞]\n",
    "* Maximum depth of a tree. Increasing this value will make the model more complex and more likely to overfit. 0 indicates no limit on depth. Beware that XGBoost aggressively consumes memory when training a deep tree. exact tree method requires non-zero value. It usually takes values between 3 and 10.\n",
    "\n",
    "4. **gamma** :  [default=0] , range: [0,∞]\n",
    "* Minimum loss reduction required to make a further partition on a leaf node of the tree. The larger gamma is, the more conservative the algorithm will be.\n",
    "\n",
    "5. **subsample** : [default=1] , range: (0,1]\n",
    "\n",
    "* Subsample ratio of the training instances. Setting it to 0.5 means that XGBoost would randomly sample half of the training data prior to growing trees. and this will prevent overfitting. Subsampling will occur once in every boosting iteration.\n",
    "\n",
    "6. **colsample_bytree, colsample_bylevel, colsample_bynode** :  [default=1]\n",
    "\n",
    "*  This is a family of parameters for subsampling of columns.\n",
    "\n",
    "* All colsample_by* parameters have a range of (0, 1], the default value of 1, and specify the fraction of columns to be subsampled.\n",
    "\n",
    "* **colsample_bytree** is the subsample ratio of columns when constructing each tree. Subsampling occurs once for every tree constructed.\n",
    "\n",
    "* **colsample_bylevel** is the subsample ratio of columns for each level. Subsampling occurs once for every new depth level reached in a tree. Columns are subsampled from the set of columns chosen for the current tree.\n",
    "\n",
    "* **colsample_bynode** is the subsample ratio of columns for each node (split). Subsampling occurs once every time a new split is evaluated. Columns are subsampled from the set of columns chosen for the current level.\n",
    "\n",
    "* colsample_by* parameters work cumulatively. For instance, the combination {'colsample_bytree':0.5, 'colsample_bylevel':0.5, 'colsample_bynode':0.5} with 64 features will leave 8 features to choose from at each split.\n",
    "\n",
    "7. **lambda** : [default=1, alias: reg_lambda] ,\n",
    "\n",
    "* L2 regularization term on weights. Increasing this value will make model more conservative.\n",
    "\n",
    "* Since the lambda value is in the denominator of the similarity score, as the lambda increases, the similarity score will decrease and therefore this will also decrease the gain score.This allows for more pruning, only branches with a high gain score are preserved and overfitting can be prevented.\n",
    "* Also, lambda affects branches with single or few instances more. The fewer instances in the branch, the lower the similarity score and the higher the probability of these branches being pruned. Thus, it prevents overfitting and having less instances in leaf nodes.\n",
    "\n",
    "* In addition, since the lambda value is in the denominator in the output formula, as the lambda increases, the output value will decrease. Thus, the correct prediction will be reached with more iterations, that is, the number of trees.\n",
    "\n",
    "8. **alpha** : [default=0, alias: reg_alpha]\n",
    "\n",
    "* L1 regularization term on weights. Increasing this value will make model more conservative.\n"
   ]
  },
  {
   "cell_type": "markdown",
   "id": "d5b6e7b0",
   "metadata": {
    "papermill": {
     "duration": 0.025373,
     "end_time": "2022-06-06T15:00:15.669867",
     "exception": false,
     "start_time": "2022-06-06T15:00:15.644494",
     "status": "completed"
    },
    "tags": []
   },
   "source": [
    "* In addition to these parameters, **early_stopping_rounds** and **eval-set** parameters can be used inside the fit() function.In the \"eval-set\" parameter, we enter the test data that will check whether the loss decreases while fitting the model.In the \"early_stopping_rounds\" parameter, we enter an integer value. If the loss function does not decrease when this value is reached, the training is stopped. Thus, overfitting is avoided."
   ]
  },
  {
   "cell_type": "code",
   "execution_count": 1,
   "id": "11d456eb",
   "metadata": {
    "execution": {
     "iopub.execute_input": "2022-06-06T15:00:15.725696Z",
     "iopub.status.busy": "2022-06-06T15:00:15.725240Z",
     "iopub.status.idle": "2022-06-06T15:00:29.114527Z",
     "shell.execute_reply": "2022-06-06T15:00:29.113694Z"
    },
    "papermill": {
     "duration": 13.421944,
     "end_time": "2022-06-06T15:00:29.117189",
     "exception": false,
     "start_time": "2022-06-06T15:00:15.695245",
     "status": "completed"
    },
    "tags": []
   },
   "outputs": [
    {
     "name": "stdout",
     "output_type": "stream",
     "text": [
      "Requirement already satisfied: xgboost in /opt/conda/lib/python3.7/site-packages (1.6.1)\r\n",
      "Requirement already satisfied: numpy in /opt/conda/lib/python3.7/site-packages (from xgboost) (1.21.6)\r\n",
      "Requirement already satisfied: scipy in /opt/conda/lib/python3.7/site-packages (from xgboost) (1.7.3)\r\n",
      "\u001b[33mWARNING: Running pip as the 'root' user can result in broken permissions and conflicting behaviour with the system package manager. It is recommended to use a virtual environment instead: https://pip.pypa.io/warnings/venv\u001b[0m\u001b[33m\r\n",
      "\u001b[0m"
     ]
    }
   ],
   "source": [
    "import warnings\n",
    "import numpy as np\n",
    "import pandas as pd\n",
    "import seaborn as sns\n",
    "import matplotlib.pyplot as plt\n",
    "from sklearn.model_selection import GridSearchCV, cross_validate, validation_curve,train_test_split\n",
    "from matplotlib import pyplot as plt\n",
    "from sklearn.ensemble import GradientBoostingClassifier\n",
    "from sklearn.metrics import classification_report, roc_auc_score,accuracy_score\n",
    "warnings.simplefilter(action='ignore', category=Warning)\n",
    "!pip install xgboost\n",
    "from sklearn.model_selection import learning_curve\n",
    "import xgboost as xgb"
   ]
  },
  {
   "cell_type": "markdown",
   "id": "d2b95b1e",
   "metadata": {
    "papermill": {
     "duration": 0.025322,
     "end_time": "2022-06-06T15:00:29.168696",
     "exception": false,
     "start_time": "2022-06-06T15:00:29.143374",
     "status": "completed"
    },
    "tags": []
   },
   "source": [
    "* **Dataset Information**\n",
    "* This radar data was collected by a system in Goose Bay, Labrador. This system consists of a phased array of 16 high-frequency antennas with a total transmitted power on the order of 6.4 kilowatts. See the paper for more details. The targets were free electrons in the ionosphere. \"Good\" radar returns are those showing evidence of some type of structure in the ionosphere. \"Bad\" returns are those that do not; their signals pass through the ionosphere.\n",
    "\n",
    "* Received signals were processed using an autocorrelation function whose arguments are the time of a pulse and the pulse number. There were 17 pulse numbers for the Goose Bay system. Instances in this databse are described by 2 attributes per pulse number, corresponding to the complex values returned by the function resulting from the complex electromagnetic signal.\n",
    "\n",
    "* All 34 are continuous. The 35th attribute is either \"good\" or \"bad\" according to the definition summarized above. This is a binary classification task."
   ]
  },
  {
   "cell_type": "code",
   "execution_count": 2,
   "id": "77d47af3",
   "metadata": {
    "execution": {
     "iopub.execute_input": "2022-06-06T15:00:29.224012Z",
     "iopub.status.busy": "2022-06-06T15:00:29.223318Z",
     "iopub.status.idle": "2022-06-06T15:00:29.276778Z",
     "shell.execute_reply": "2022-06-06T15:00:29.276129Z"
    },
    "papermill": {
     "duration": 0.084806,
     "end_time": "2022-06-06T15:00:29.279287",
     "exception": false,
     "start_time": "2022-06-06T15:00:29.194481",
     "status": "completed"
    },
    "tags": []
   },
   "outputs": [
    {
     "data": {
      "text/html": [
       "<div>\n",
       "<style scoped>\n",
       "    .dataframe tbody tr th:only-of-type {\n",
       "        vertical-align: middle;\n",
       "    }\n",
       "\n",
       "    .dataframe tbody tr th {\n",
       "        vertical-align: top;\n",
       "    }\n",
       "\n",
       "    .dataframe thead th {\n",
       "        text-align: right;\n",
       "    }\n",
       "</style>\n",
       "<table border=\"1\" class=\"dataframe\">\n",
       "  <thead>\n",
       "    <tr style=\"text-align: right;\">\n",
       "      <th></th>\n",
       "      <th>a01</th>\n",
       "      <th>a02</th>\n",
       "      <th>a03</th>\n",
       "      <th>a04</th>\n",
       "      <th>a05</th>\n",
       "      <th>a06</th>\n",
       "      <th>a07</th>\n",
       "      <th>a08</th>\n",
       "      <th>a09</th>\n",
       "      <th>a10</th>\n",
       "      <th>...</th>\n",
       "      <th>a26</th>\n",
       "      <th>a27</th>\n",
       "      <th>a28</th>\n",
       "      <th>a29</th>\n",
       "      <th>a30</th>\n",
       "      <th>a31</th>\n",
       "      <th>a32</th>\n",
       "      <th>a33</th>\n",
       "      <th>a34</th>\n",
       "      <th>class</th>\n",
       "    </tr>\n",
       "  </thead>\n",
       "  <tbody>\n",
       "    <tr>\n",
       "      <th>0</th>\n",
       "      <td>1</td>\n",
       "      <td>0</td>\n",
       "      <td>0.99539</td>\n",
       "      <td>-0.05889</td>\n",
       "      <td>0.85243</td>\n",
       "      <td>0.02306</td>\n",
       "      <td>0.83398</td>\n",
       "      <td>-0.37708</td>\n",
       "      <td>1.00000</td>\n",
       "      <td>0.03760</td>\n",
       "      <td>...</td>\n",
       "      <td>-0.51171</td>\n",
       "      <td>0.41078</td>\n",
       "      <td>-0.46168</td>\n",
       "      <td>0.21266</td>\n",
       "      <td>-0.34090</td>\n",
       "      <td>0.42267</td>\n",
       "      <td>-0.54487</td>\n",
       "      <td>0.18641</td>\n",
       "      <td>-0.45300</td>\n",
       "      <td>g</td>\n",
       "    </tr>\n",
       "    <tr>\n",
       "      <th>1</th>\n",
       "      <td>1</td>\n",
       "      <td>0</td>\n",
       "      <td>1.00000</td>\n",
       "      <td>-0.18829</td>\n",
       "      <td>0.93035</td>\n",
       "      <td>-0.36156</td>\n",
       "      <td>-0.10868</td>\n",
       "      <td>-0.93597</td>\n",
       "      <td>1.00000</td>\n",
       "      <td>-0.04549</td>\n",
       "      <td>...</td>\n",
       "      <td>-0.26569</td>\n",
       "      <td>-0.20468</td>\n",
       "      <td>-0.18401</td>\n",
       "      <td>-0.19040</td>\n",
       "      <td>-0.11593</td>\n",
       "      <td>-0.16626</td>\n",
       "      <td>-0.06288</td>\n",
       "      <td>-0.13738</td>\n",
       "      <td>-0.02447</td>\n",
       "      <td>b</td>\n",
       "    </tr>\n",
       "    <tr>\n",
       "      <th>2</th>\n",
       "      <td>1</td>\n",
       "      <td>0</td>\n",
       "      <td>1.00000</td>\n",
       "      <td>-0.03365</td>\n",
       "      <td>1.00000</td>\n",
       "      <td>0.00485</td>\n",
       "      <td>1.00000</td>\n",
       "      <td>-0.12062</td>\n",
       "      <td>0.88965</td>\n",
       "      <td>0.01198</td>\n",
       "      <td>...</td>\n",
       "      <td>-0.40220</td>\n",
       "      <td>0.58984</td>\n",
       "      <td>-0.22145</td>\n",
       "      <td>0.43100</td>\n",
       "      <td>-0.17365</td>\n",
       "      <td>0.60436</td>\n",
       "      <td>-0.24180</td>\n",
       "      <td>0.56045</td>\n",
       "      <td>-0.38238</td>\n",
       "      <td>g</td>\n",
       "    </tr>\n",
       "    <tr>\n",
       "      <th>3</th>\n",
       "      <td>1</td>\n",
       "      <td>0</td>\n",
       "      <td>1.00000</td>\n",
       "      <td>-0.45161</td>\n",
       "      <td>1.00000</td>\n",
       "      <td>1.00000</td>\n",
       "      <td>0.71216</td>\n",
       "      <td>-1.00000</td>\n",
       "      <td>0.00000</td>\n",
       "      <td>0.00000</td>\n",
       "      <td>...</td>\n",
       "      <td>0.90695</td>\n",
       "      <td>0.51613</td>\n",
       "      <td>1.00000</td>\n",
       "      <td>1.00000</td>\n",
       "      <td>-0.20099</td>\n",
       "      <td>0.25682</td>\n",
       "      <td>1.00000</td>\n",
       "      <td>-0.32382</td>\n",
       "      <td>1.00000</td>\n",
       "      <td>b</td>\n",
       "    </tr>\n",
       "    <tr>\n",
       "      <th>4</th>\n",
       "      <td>1</td>\n",
       "      <td>0</td>\n",
       "      <td>1.00000</td>\n",
       "      <td>-0.02401</td>\n",
       "      <td>0.94140</td>\n",
       "      <td>0.06531</td>\n",
       "      <td>0.92106</td>\n",
       "      <td>-0.23255</td>\n",
       "      <td>0.77152</td>\n",
       "      <td>-0.16399</td>\n",
       "      <td>...</td>\n",
       "      <td>-0.65158</td>\n",
       "      <td>0.13290</td>\n",
       "      <td>-0.53206</td>\n",
       "      <td>0.02431</td>\n",
       "      <td>-0.62197</td>\n",
       "      <td>-0.05707</td>\n",
       "      <td>-0.59573</td>\n",
       "      <td>-0.04608</td>\n",
       "      <td>-0.65697</td>\n",
       "      <td>g</td>\n",
       "    </tr>\n",
       "  </tbody>\n",
       "</table>\n",
       "<p>5 rows × 35 columns</p>\n",
       "</div>"
      ],
      "text/plain": [
       "   a01  a02      a03      a04      a05      a06      a07      a08      a09  \\\n",
       "0    1    0  0.99539 -0.05889  0.85243  0.02306  0.83398 -0.37708  1.00000   \n",
       "1    1    0  1.00000 -0.18829  0.93035 -0.36156 -0.10868 -0.93597  1.00000   \n",
       "2    1    0  1.00000 -0.03365  1.00000  0.00485  1.00000 -0.12062  0.88965   \n",
       "3    1    0  1.00000 -0.45161  1.00000  1.00000  0.71216 -1.00000  0.00000   \n",
       "4    1    0  1.00000 -0.02401  0.94140  0.06531  0.92106 -0.23255  0.77152   \n",
       "\n",
       "       a10  ...      a26      a27      a28      a29      a30      a31  \\\n",
       "0  0.03760  ... -0.51171  0.41078 -0.46168  0.21266 -0.34090  0.42267   \n",
       "1 -0.04549  ... -0.26569 -0.20468 -0.18401 -0.19040 -0.11593 -0.16626   \n",
       "2  0.01198  ... -0.40220  0.58984 -0.22145  0.43100 -0.17365  0.60436   \n",
       "3  0.00000  ...  0.90695  0.51613  1.00000  1.00000 -0.20099  0.25682   \n",
       "4 -0.16399  ... -0.65158  0.13290 -0.53206  0.02431 -0.62197 -0.05707   \n",
       "\n",
       "       a32      a33      a34  class  \n",
       "0 -0.54487  0.18641 -0.45300      g  \n",
       "1 -0.06288 -0.13738 -0.02447      b  \n",
       "2 -0.24180  0.56045 -0.38238      g  \n",
       "3  1.00000 -0.32382  1.00000      b  \n",
       "4 -0.59573 -0.04608 -0.65697      g  \n",
       "\n",
       "[5 rows x 35 columns]"
      ]
     },
     "execution_count": 2,
     "metadata": {},
     "output_type": "execute_result"
    }
   ],
   "source": [
    "df=pd.read_csv(\"../input/ionosphere-data/ionosphere.csv\")\n",
    "df.head()"
   ]
  },
  {
   "cell_type": "code",
   "execution_count": 3,
   "id": "ec9657ff",
   "metadata": {
    "execution": {
     "iopub.execute_input": "2022-06-06T15:00:29.333516Z",
     "iopub.status.busy": "2022-06-06T15:00:29.332838Z",
     "iopub.status.idle": "2022-06-06T15:00:29.344692Z",
     "shell.execute_reply": "2022-06-06T15:00:29.344104Z"
    },
    "papermill": {
     "duration": 0.041181,
     "end_time": "2022-06-06T15:00:29.346754",
     "exception": false,
     "start_time": "2022-06-06T15:00:29.305573",
     "status": "completed"
    },
    "tags": []
   },
   "outputs": [],
   "source": [
    "# convert from string to numeric\n",
    "\n",
    "df[\"class\"]=df[\"class\"].map({\"g\":1,\"b\":0})\n",
    "\n",
    "y = df[\"class\"] # dependent(target) variable\n",
    "X = df.drop(\"class\",axis=1)# independent variables"
   ]
  },
  {
   "cell_type": "code",
   "execution_count": 4,
   "id": "9516e4cc",
   "metadata": {
    "execution": {
     "iopub.execute_input": "2022-06-06T15:00:29.400530Z",
     "iopub.status.busy": "2022-06-06T15:00:29.400258Z",
     "iopub.status.idle": "2022-06-06T15:00:29.409578Z",
     "shell.execute_reply": "2022-06-06T15:00:29.408980Z"
    },
    "papermill": {
     "duration": 0.038385,
     "end_time": "2022-06-06T15:00:29.411374",
     "exception": false,
     "start_time": "2022-06-06T15:00:29.372989",
     "status": "completed"
    },
    "tags": []
   },
   "outputs": [],
   "source": [
    "#splitting with  Holdout method for eval_set\n",
    "X_train, X_test, y_train, y_test = train_test_split(X, y,\n",
    "                                                    test_size=0.20,\n",
    "                                                    random_state=45,\n",
    "                                                    stratify=y)\n",
    "# stratify parameter for the target variable to be evenly distributed in the train and test set"
   ]
  },
  {
   "cell_type": "code",
   "execution_count": 5,
   "id": "ed63713b",
   "metadata": {
    "execution": {
     "iopub.execute_input": "2022-06-06T15:00:29.465096Z",
     "iopub.status.busy": "2022-06-06T15:00:29.464800Z",
     "iopub.status.idle": "2022-06-06T15:00:29.726336Z",
     "shell.execute_reply": "2022-06-06T15:00:29.725666Z"
    },
    "papermill": {
     "duration": 0.290842,
     "end_time": "2022-06-06T15:00:29.728368",
     "exception": false,
     "start_time": "2022-06-06T15:00:29.437526",
     "status": "completed"
    },
    "tags": []
   },
   "outputs": [
    {
     "data": {
      "text/plain": [
       "XGBClassifier(base_score=0.5, booster='gbtree', callbacks=None,\n",
       "              colsample_bylevel=1, colsample_bynode=1, colsample_bytree=1,\n",
       "              early_stopping_rounds=None, enable_categorical=False,\n",
       "              eval_metric='logloss', gamma=0, gpu_id=-1,\n",
       "              grow_policy='depthwise', importance_type=None,\n",
       "              interaction_constraints='', learning_rate=0.300000012,\n",
       "              max_bin=256, max_cat_to_onehot=4, max_delta_step=0, max_depth=6,\n",
       "              max_leaves=0, min_child_weight=1, missing=nan,\n",
       "              monotone_constraints='()', n_estimators=100, n_jobs=0,\n",
       "              num_parallel_tree=1, predictor='auto', random_state=0,\n",
       "              reg_alpha=0, reg_lambda=1, ...)"
      ]
     },
     "execution_count": 5,
     "metadata": {},
     "output_type": "execute_result"
    }
   ],
   "source": [
    "eval_set = [(X_test, y_test)]\n",
    "xgb_cls= xgb.XGBClassifier(objective=\"binary:logistic\",\n",
    "                           eval_metric=\"logloss\",n_estimators=100)\n",
    "\n",
    "xgb_cls.fit(X_train, y_train, \n",
    "            eval_set=[(X_train, y_train),(X_test, y_test)], \n",
    "            early_stopping_rounds=5,verbose=0) "
   ]
  },
  {
   "cell_type": "code",
   "execution_count": 6,
   "id": "a0a1bb17",
   "metadata": {
    "execution": {
     "iopub.execute_input": "2022-06-06T15:00:29.783111Z",
     "iopub.status.busy": "2022-06-06T15:00:29.782824Z",
     "iopub.status.idle": "2022-06-06T15:00:30.025755Z",
     "shell.execute_reply": "2022-06-06T15:00:30.025137Z"
    },
    "papermill": {
     "duration": 0.272854,
     "end_time": "2022-06-06T15:00:30.027749",
     "exception": false,
     "start_time": "2022-06-06T15:00:29.754895",
     "status": "completed"
    },
    "tags": []
   },
   "outputs": [
    {
     "data": {
      "image/png": "[encoded data removed]",
      "text/plain": [
       "<Figure size 720x504 with 1 Axes>"
      ]
     },
     "metadata": {
      "needs_background": "light"
     },
     "output_type": "display_data"
    }
   ],
   "source": [
    "# loss curve of xgboost\n",
    "results = xgb_cls.evals_result()\n",
    "\n",
    "plt.figure(figsize=(10,7))\n",
    "plt.plot(results[\"validation_0\"][\"logloss\"], label=\"Training loss\")\n",
    "plt.plot(results[\"validation_1\"][\"logloss\"], label=\"Validation loss\")\n",
    "plt.xlabel(\"Number of trees\")\n",
    "plt.ylabel(\"Loss\")\n",
    "plt.legend();"
   ]
  },
  {
   "cell_type": "code",
   "execution_count": 7,
   "id": "d3d8bb22",
   "metadata": {
    "execution": {
     "iopub.execute_input": "2022-06-06T15:00:30.085615Z",
     "iopub.status.busy": "2022-06-06T15:00:30.084863Z",
     "iopub.status.idle": "2022-06-06T15:00:30.090185Z",
     "shell.execute_reply": "2022-06-06T15:00:30.089560Z"
    },
    "papermill": {
     "duration": 0.0363,
     "end_time": "2022-06-06T15:00:30.092136",
     "exception": false,
     "start_time": "2022-06-06T15:00:30.055836",
     "status": "completed"
    },
    "tags": []
   },
   "outputs": [
    {
     "data": {
      "text/plain": [
       "27"
      ]
     },
     "execution_count": 7,
     "metadata": {},
     "output_type": "execute_result"
    }
   ],
   "source": [
    "xgb_cls.best_ntree_limit\n",
    "# This result tells us that the loss function does not decrease after the 27th tree. \n",
    "# We will then optimize it in the hyperparameter tuning process."
   ]
  },
  {
   "cell_type": "code",
   "execution_count": 8,
   "id": "2d5d596c",
   "metadata": {
    "execution": {
     "iopub.execute_input": "2022-06-06T15:00:30.150144Z",
     "iopub.status.busy": "2022-06-06T15:00:30.149832Z",
     "iopub.status.idle": "2022-06-06T15:00:34.091444Z",
     "shell.execute_reply": "2022-06-06T15:00:34.090472Z"
    },
    "papermill": {
     "duration": 3.9737,
     "end_time": "2022-06-06T15:00:34.094033",
     "exception": false,
     "start_time": "2022-06-06T15:00:30.120333",
     "status": "completed"
    },
    "tags": []
   },
   "outputs": [
    {
     "name": "stdout",
     "output_type": "stream",
     "text": [
      "0.9326386565727123\n",
      "1.0\n"
     ]
    }
   ],
   "source": [
    "cv_results = cross_validate(xgb_cls, X, y, cv=10, scoring=[\"f1\"],\n",
    "                            return_train_score=True)\n",
    "print(cv_results['test_f1'].mean())\n",
    "print(cv_results['train_f1'].mean())"
   ]
  },
  {
   "cell_type": "markdown",
   "id": "b57bae0d",
   "metadata": {
    "papermill": {
     "duration": 0.028885,
     "end_time": "2022-06-06T15:00:34.153773",
     "exception": false,
     "start_time": "2022-06-06T15:00:34.124888",
     "status": "completed"
    },
    "tags": []
   },
   "source": [
    "*  we use f1 score beacuse dataset is imbalanced \n",
    "* and there is overfitting in xgboost model because f1 score of training dataset is 1.0."
   ]
  },
  {
   "cell_type": "code",
   "execution_count": 9,
   "id": "a29e539a",
   "metadata": {
    "execution": {
     "iopub.execute_input": "2022-06-06T15:00:34.213751Z",
     "iopub.status.busy": "2022-06-06T15:00:34.213451Z",
     "iopub.status.idle": "2022-06-06T15:00:34.219546Z",
     "shell.execute_reply": "2022-06-06T15:00:34.218586Z"
    },
    "papermill": {
     "duration": 0.037923,
     "end_time": "2022-06-06T15:00:34.221427",
     "exception": false,
     "start_time": "2022-06-06T15:00:34.183504",
     "status": "completed"
    },
    "tags": []
   },
   "outputs": [],
   "source": [
    "xgboost_params = {\"learning_rate\": [0.1, 0.05],\n",
    "                  \"max_depth\": [1,2,3],\n",
    "                  \"n_estimators\": [20,30,50,70,90], \n",
    "                  \"reg_lambda\" :[2,3],\n",
    "                  \"gamma\":[2,3],\n",
    "                  \"subsample\":[0.5],\n",
    "                    \"min_child_weight\": [3,4],\n",
    "                    \"colsample_bytree\":[0.4],\n",
    "                  \"colsample_bylevel\":[0.4],\n",
    "                  \"colsample_bynode\":[0.4]\n",
    "                 }\n",
    "\n",
    "fit_params={\"eval_set\" : [[X_test, y_test]]}"
   ]
  },
  {
   "cell_type": "markdown",
   "id": "84ce1fc7",
   "metadata": {
    "papermill": {
     "duration": 0.029537,
     "end_time": "2022-06-06T15:00:34.279576",
     "exception": false,
     "start_time": "2022-06-06T15:00:34.250039",
     "status": "completed"
    },
    "tags": []
   },
   "source": [
    "* In order to reduce overfitting in hyperparameter optimization, we decreased the values of parameters such as subsample col_by* ,min_child_weight,max_depth,n_estimators and increased the gamma,lambda values."
   ]
  },
  {
   "cell_type": "code",
   "execution_count": 10,
   "id": "78070116",
   "metadata": {
    "execution": {
     "iopub.execute_input": "2022-06-06T15:00:34.340082Z",
     "iopub.status.busy": "2022-06-06T15:00:34.339795Z",
     "iopub.status.idle": "2022-06-06T15:03:09.693140Z",
     "shell.execute_reply": "2022-06-06T15:03:09.692092Z"
    },
    "papermill": {
     "duration": 155.386704,
     "end_time": "2022-06-06T15:03:09.696059",
     "exception": false,
     "start_time": "2022-06-06T15:00:34.309355",
     "status": "completed"
    },
    "tags": []
   },
   "outputs": [],
   "source": [
    "xgboost_best_grid = GridSearchCV(xgb_cls, xgboost_params,\n",
    "                                 cv=7, n_jobs=-1,\n",
    "                                 return_train_score=True).fit(X, y,**fit_params,verbose=0)"
   ]
  },
  {
   "cell_type": "code",
   "execution_count": 11,
   "id": "d4f96fa3",
   "metadata": {
    "execution": {
     "iopub.execute_input": "2022-06-06T15:03:09.758689Z",
     "iopub.status.busy": "2022-06-06T15:03:09.758185Z",
     "iopub.status.idle": "2022-06-06T15:03:09.764577Z",
     "shell.execute_reply": "2022-06-06T15:03:09.763985Z"
    },
    "papermill": {
     "duration": 0.039854,
     "end_time": "2022-06-06T15:03:09.766371",
     "exception": false,
     "start_time": "2022-06-06T15:03:09.726517",
     "status": "completed"
    },
    "tags": []
   },
   "outputs": [
    {
     "data": {
      "text/plain": [
       "{'colsample_bylevel': 0.4,\n",
       " 'colsample_bynode': 0.4,\n",
       " 'colsample_bytree': 0.4,\n",
       " 'gamma': 3,\n",
       " 'learning_rate': 0.1,\n",
       " 'max_depth': 2,\n",
       " 'min_child_weight': 3,\n",
       " 'n_estimators': 90,\n",
       " 'reg_lambda': 3,\n",
       " 'subsample': 0.5}"
      ]
     },
     "execution_count": 11,
     "metadata": {},
     "output_type": "execute_result"
    }
   ],
   "source": [
    "xgboost_best_grid.best_params_"
   ]
  },
  {
   "cell_type": "code",
   "execution_count": 12,
   "id": "77037842",
   "metadata": {
    "execution": {
     "iopub.execute_input": "2022-06-06T15:03:09.825731Z",
     "iopub.status.busy": "2022-06-06T15:03:09.825304Z",
     "iopub.status.idle": "2022-06-06T15:03:09.830684Z",
     "shell.execute_reply": "2022-06-06T15:03:09.830134Z"
    },
    "papermill": {
     "duration": 0.037333,
     "end_time": "2022-06-06T15:03:09.832523",
     "exception": false,
     "start_time": "2022-06-06T15:03:09.795190",
     "status": "completed"
    },
    "tags": []
   },
   "outputs": [
    {
     "data": {
      "text/plain": [
       "0.9230812324929971"
      ]
     },
     "execution_count": 12,
     "metadata": {},
     "output_type": "execute_result"
    }
   ],
   "source": [
    "xgboost_best_grid.best_score_"
   ]
  },
  {
   "cell_type": "code",
   "execution_count": 13,
   "id": "8d78e558",
   "metadata": {
    "collapsed": true,
    "execution": {
     "iopub.execute_input": "2022-06-06T15:03:09.894214Z",
     "iopub.status.busy": "2022-06-06T15:03:09.893370Z",
     "iopub.status.idle": "2022-06-06T15:03:12.751894Z",
     "shell.execute_reply": "2022-06-06T15:03:12.750550Z"
    },
    "jupyter": {
     "outputs_hidden": true
    },
    "papermill": {
     "duration": 2.89339,
     "end_time": "2022-06-06T15:03:12.755482",
     "exception": false,
     "start_time": "2022-06-06T15:03:09.862092",
     "status": "completed"
    },
    "tags": []
   },
   "outputs": [
    {
     "name": "stdout",
     "output_type": "stream",
     "text": [
      "0.9587074060378319\n",
      "0.9458578476719086\n"
     ]
    }
   ],
   "source": [
    "# create final xgboost model\n",
    "xgbm_final = xgb_cls.set_params(**xgboost_best_grid.best_params_, \n",
    "                                random_state=17, ).fit(X, y)\n",
    "\n",
    "\n",
    "cv_results = cross_validate(xgbm_final, X, y, cv=10,\n",
    "                            scoring=[\"f1\"],return_train_score=True)\n",
    "\n",
    "print(cv_results['train_f1'].mean())\n",
    "print(cv_results['test_f1'].mean())"
   ]
  },
  {
   "cell_type": "markdown",
   "id": "d4ab94f3",
   "metadata": {
    "papermill": {
     "duration": 0.029373,
     "end_time": "2022-06-06T15:03:12.816111",
     "exception": false,
     "start_time": "2022-06-06T15:03:12.786738",
     "status": "completed"
    },
    "tags": []
   },
   "source": [
    "* When we look at the f1 score of the final xgboost model with the cross validation method, we see that train f1 decreases, test f1 increases and they get very close to each other.Thus, overfitting is prevented.We can see a similar result when we look at the learning curve and loss curve."
   ]
  },
  {
   "cell_type": "code",
   "execution_count": 14,
   "id": "476387c1",
   "metadata": {
    "execution": {
     "iopub.execute_input": "2022-06-06T15:03:12.878967Z",
     "iopub.status.busy": "2022-06-06T15:03:12.878497Z",
     "iopub.status.idle": "2022-06-06T15:03:13.096129Z",
     "shell.execute_reply": "2022-06-06T15:03:13.095319Z"
    },
    "papermill": {
     "duration": 0.252602,
     "end_time": "2022-06-06T15:03:13.098407",
     "exception": false,
     "start_time": "2022-06-06T15:03:12.845805",
     "status": "completed"
    },
    "tags": []
   },
   "outputs": [
    {
     "data": {
      "image/png": "[encoded data removed]",
      "text/plain": [
       "<Figure size 720x504 with 1 Axes>"
      ]
     },
     "metadata": {
      "needs_background": "light"
     },
     "output_type": "display_data"
    }
   ],
   "source": [
    "results = xgbm_final.evals_result()\n",
    "\n",
    "plt.figure(figsize=(10,7))\n",
    "plt.plot(results[\"validation_0\"][\"logloss\"], label=\"Training loss\")\n",
    "plt.plot(results[\"validation_1\"][\"logloss\"], label=\"Validation loss\")\n",
    "plt.xlabel(\"Number of trees\")\n",
    "plt.ylabel(\"Loss\")\n",
    "plt.legend();"
   ]
  },
  {
   "cell_type": "code",
   "execution_count": 15,
   "id": "50532159",
   "metadata": {
    "execution": {
     "iopub.execute_input": "2022-06-06T15:03:13.162430Z",
     "iopub.status.busy": "2022-06-06T15:03:13.161827Z",
     "iopub.status.idle": "2022-06-06T15:04:43.179750Z",
     "shell.execute_reply": "2022-06-06T15:04:43.178904Z"
    },
    "papermill": {
     "duration": 90.087199,
     "end_time": "2022-06-06T15:04:43.216784",
     "exception": false,
     "start_time": "2022-06-06T15:03:13.129585",
     "status": "completed"
    },
    "tags": []
   },
   "outputs": [
    {
     "data": {
      "image/png": "[encoded data removed]",
      "text/plain": [
       "<Figure size 576x396 with 1 Axes>"
      ]
     },
     "metadata": {},
     "output_type": "display_data"
    }
   ],
   "source": [
    "train_sizes, train_scores, test_scores = learning_curve(xgb_cls, X, y, cv=10,\n",
    "                                                        scoring='f1', n_jobs=-1, \n",
    "                                                        train_sizes=np.linspace(0.01, 1.0, 100))\n",
    "\n",
    "train_mean = np.mean(train_scores, axis=1)\n",
    "validation_mean = np.mean(test_scores, axis=1)\n",
    "\n",
    "plt.style.use('seaborn')\n",
    "plt.plot(train_sizes, train_mean, label = 'Training error')\n",
    "plt.plot(train_sizes, validation_mean, label = 'Validation error')\n",
    "plt.ylabel('Accuracy', fontsize = 14)\n",
    "plt.xlabel('Training set size', fontsize = 14)\n",
    "plt.title('Learning curve for XGBOOST', fontsize = 18, y = 1.03)\n",
    "plt.legend();"
   ]
  },
  {
   "cell_type": "code",
   "execution_count": 16,
   "id": "80f4e97f",
   "metadata": {
    "execution": {
     "iopub.execute_input": "2022-06-06T15:04:43.285266Z",
     "iopub.status.busy": "2022-06-06T15:04:43.284968Z",
     "iopub.status.idle": "2022-06-06T15:04:43.291844Z",
     "shell.execute_reply": "2022-06-06T15:04:43.291048Z"
    },
    "papermill": {
     "duration": 0.043676,
     "end_time": "2022-06-06T15:04:43.293681",
     "exception": false,
     "start_time": "2022-06-06T15:04:43.250005",
     "status": "completed"
    },
    "tags": []
   },
   "outputs": [],
   "source": [
    "def plot_importance(model, features, num=len(X), save=False):\n",
    "    feature_imp = pd.DataFrame({'Value': model.feature_importances_, 'Feature': features.columns})\n",
    "    plt.figure(figsize=(8, 8))\n",
    "    sns.set(font_scale=1)\n",
    "    sns.barplot(x=\"Value\", y=\"Feature\", data=feature_imp.sort_values(by=\"Value\",\n",
    "                                                                     ascending=False)[0:num])\n",
    "    plt.title('Features')\n",
    "    plt.tight_layout()\n",
    "    plt.show()\n",
    "    if save:\n",
    "        plt.savefig('importances.png')"
   ]
  },
  {
   "cell_type": "code",
   "execution_count": 17,
   "id": "f2e3459c",
   "metadata": {
    "execution": {
     "iopub.execute_input": "2022-06-06T15:04:43.361198Z",
     "iopub.status.busy": "2022-06-06T15:04:43.360903Z",
     "iopub.status.idle": "2022-06-06T15:04:43.893883Z",
     "shell.execute_reply": "2022-06-06T15:04:43.893036Z"
    },
    "papermill": {
     "duration": 0.569595,
     "end_time": "2022-06-06T15:04:43.896212",
     "exception": false,
     "start_time": "2022-06-06T15:04:43.326617",
     "status": "completed"
    },
    "tags": []
   },
   "outputs": [
    {
     "data": {
      "image/png": "[encoded data removed]",
      "text/plain": [
       "<Figure size 576x576 with 1 Axes>"
      ]
     },
     "metadata": {},
     "output_type": "display_data"
    }
   ],
   "source": [
    "plot_importance(xgb_cls, X)\n",
    "# When the feature importance graph is observed, \n",
    "# it is seen that the variables other than a02 and a01 are important for the xgboost model."
   ]
  },
  {
   "cell_type": "markdown",
   "id": "5b29fdfc",
   "metadata": {
    "papermill": {
     "duration": 0.033812,
     "end_time": "2022-06-06T15:04:43.964280",
     "exception": false,
     "start_time": "2022-06-06T15:04:43.930468",
     "status": "completed"
    },
    "tags": []
   },
   "source": [
    "                                                 Summary\n",
    " * In this tutorial we covered;\n",
    "  * XGBOOST differences and advantages over GBM\n",
    "  * Working principle of XGBOOST algorithm,\n",
    "  * Application of the XGBOOST algorithm\n",
    "  * How to avoid overfititng\n",
    "  * Parameters of the GBM model\n",
    "  * Hyperparameter optimization of the GBM model"
   ]
  },
  {
   "cell_type": "markdown",
   "id": "e389ab5a",
   "metadata": {
    "papermill": {
     "duration": 0.034344,
     "end_time": "2022-06-06T15:04:44.032085",
     "exception": false,
     "start_time": "2022-06-06T15:04:43.997741",
     "status": "completed"
    },
    "tags": []
   },
   "source": [
    "References:\n",
    "* miuul.com -> Machine Learning Course\n",
    "* https://xgboost.readthedocs.io/en/stable/index.html\n",
    "\n",
    "* https://www.veribilimiokulu.com/xgboost-nasil-calisir/#:~:text=XGBoost%2C%20verideki%20her%20değeri%20incelemek,sayısı%20varsayılan%20olarak%2033%20tanedir.\n",
    "* https://www.analyticsvidhya.com/blog/2016/03/complete-guide-parameter-tuning-xgboost-with-codes-python/"
   ]
  }
 ],
 "metadata": {
  "kernelspec": {
   "display_name": "Python 3",
   "language": "python",
   "name": "python3"
  },
  "language_info": {
   "codemirror_mode": {
    "name": "ipython",
    "version": 3
   },
   "file_extension": ".py",
   "mimetype": "text/x-python",
   "name": "python",
   "nbconvert_exporter": "python",
   "pygments_lexer": "ipython3",
   "version": "3.7.12"
  },
  "papermill": {
   "default_parameters": {},
   "duration": 280.877177,
   "end_time": "2022-06-06T15:04:46.686746",
   "environment_variables": {},
   "exception": null,
   "input_path": "__notebook__.ipynb",
   "output_path": "__notebook__.ipynb",
   "parameters": {},
   "start_time": "2022-06-06T15:00:05.809569",
   "version": "2.3.4"
  }
 },
 "nbformat": 4,
 "nbformat_minor": 5
}
